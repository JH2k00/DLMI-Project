{
 "cells": [
  {
   "cell_type": "code",
   "execution_count": 1,
   "metadata": {},
   "outputs": [
    {
     "name": "stdout",
     "output_type": "stream",
     "text": [
      "We are now using cuda.\n"
     ]
    }
   ],
   "source": [
    "import torch\n",
    "import torch.optim as optim\n",
    "from torchvision.models import resnet18\n",
    "import torch.nn as nn\n",
    "from kvasir_capsule_dataset import get_dataloader\n",
    "from trainer import train_kc_model\n",
    "import gc\n",
    "\n",
    "with_gpu = torch.cuda.is_available()\n",
    "\n",
    "if with_gpu:\n",
    "    device = torch.device(\"cuda\")\n",
    "else:\n",
    "    device = torch.device(\"cpu\")\n",
    "    \n",
    "print('We are now using %s.' % device)\n",
    "\n",
    "train_path = r\"C:\\Users\\JadHa\\Desktop\\Uni\\DLMI-Project\\kvasir-capsule-labeled-images\\dataset_train.csv\"\n",
    "val_path = r\"C:\\Users\\JadHa\\Desktop\\Uni\\DLMI-Project\\kvasir-capsule-labeled-images\\dataset_test.csv\"\n",
    "dataset_path = r\"C:\\Users\\JadHa\\Desktop\\Uni\\DLMI-Project\\kvasir-capsule-labeled-images\\labelled_images\"\n",
    "\n",
    "resnet = resnet18(num_classes=2).to(device)\n",
    "\n",
    "train_loader = get_dataloader(csv_path=train_path, dataset_path=dataset_path, batch_size=64, shuffle=True)\n",
    "val_loader = get_dataloader(csv_path=val_path, dataset_path=dataset_path, batch_size=64, shuffle=True)\n",
    "\n",
    "optimizer = optim.Adam(params=resnet.parameters(), lr=3e-4)\n",
    "\n",
    "criterion = nn.CrossEntropyLoss(weight=torch.tensor([1, 100]).to(device))"
   ]
  },
  {
   "cell_type": "code",
   "execution_count": 2,
   "metadata": {},
   "outputs": [
    {
     "name": "stdout",
     "output_type": "stream",
     "text": [
      "Training :\n",
      "Epoch : 1, Loss : 1.639, Accuracy : 0.947, Precision : 0.163, Recall : 0.953\n",
      "Validating :\n",
      "Epoch : 1, Loss : 1.057, Accuracy : 0.851, Precision : 0.017, Recall : 0.588\n",
      "Training :\n",
      "Epoch : 2, Loss : 0.076, Accuracy : 0.962, Precision : 0.217, Recall : 0.972\n",
      "Validating :\n",
      "Epoch : 2, Loss : 1.208, Accuracy : 0.667, Precision : 0.013, Recall : 1.000\n",
      "Training :\n",
      "Epoch : 3, Loss : 0.064, Accuracy : 0.967, Precision : 0.242, Recall : 0.983\n",
      "Validating :\n",
      "Epoch : 3, Loss : 0.160, Accuracy : 0.983, Precision : 0.000, Recall : 0.000\n",
      "Training :\n",
      "Epoch : 4, Loss : 0.007, Accuracy : 0.973, Precision : 0.283, Recall : 0.983\n",
      "Validating :\n",
      "Epoch : 4, Loss : 0.231, Accuracy : 0.916, Precision : 0.006, Recall : 0.118\n",
      "Training :\n",
      "Epoch : 5, Loss : 0.305, Accuracy : 0.981, Precision : 0.362, Recall : 0.988\n",
      "Validating :\n",
      "Epoch : 5, Loss : 0.254, Accuracy : 0.940, Precision : 0.066, Recall : 1.000\n",
      "Training :\n",
      "Epoch : 6, Loss : 0.155, Accuracy : 0.964, Precision : 0.227, Recall : 0.979\n",
      "Validating :\n",
      "Epoch : 6, Loss : 0.390, Accuracy : 0.868, Precision : 0.028, Recall : 0.882\n",
      "Training :\n",
      "Epoch : 7, Loss : 0.016, Accuracy : 0.984, Precision : 0.410, Recall : 0.988\n",
      "Validating :\n",
      "Epoch : 7, Loss : 0.338, Accuracy : 0.930, Precision : 0.000, Recall : 0.000\n",
      "Training :\n",
      "Epoch : 8, Loss : 0.082, Accuracy : 0.978, Precision : 0.325, Recall : 0.983\n",
      "Validating :\n",
      "Epoch : 8, Loss : 1.455, Accuracy : 0.907, Precision : 0.030, Recall : 0.676\n",
      "Training :\n",
      "Epoch : 9, Loss : 0.079, Accuracy : 0.975, Precision : 0.304, Recall : 0.991\n",
      "Validating :\n",
      "Epoch : 9, Loss : 8.817, Accuracy : 0.914, Precision : 0.026, Recall : 0.529\n",
      "Training :\n",
      "Epoch : 10, Loss : 0.031, Accuracy : 0.988, Precision : 0.473, Recall : 1.000\n",
      "Validating :\n",
      "Epoch : 10, Loss : 1.084, Accuracy : 0.877, Precision : 0.021, Recall : 0.618\n"
     ]
    }
   ],
   "source": [
    "torch.cuda.empty_cache()\n",
    "gc.collect()\n",
    "train_kc_model(resnet, optimizer, criterion, train_loader, val_loader, epochs=10, device=device)"
   ]
  }
 ],
 "metadata": {
  "kernelspec": {
   "display_name": "eeg_gnn",
   "language": "python",
   "name": "python3"
  },
  "language_info": {
   "codemirror_mode": {
    "name": "ipython",
    "version": 3
   },
   "file_extension": ".py",
   "mimetype": "text/x-python",
   "name": "python",
   "nbconvert_exporter": "python",
   "pygments_lexer": "ipython3",
   "version": "3.9.18"
  }
 },
 "nbformat": 4,
 "nbformat_minor": 2
}
