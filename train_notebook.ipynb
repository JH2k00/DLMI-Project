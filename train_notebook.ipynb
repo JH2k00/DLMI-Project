{
 "cells": [
  {
   "cell_type": "code",
   "execution_count": 1,
   "metadata": {},
   "outputs": [
    {
     "name": "stderr",
     "output_type": "stream",
     "text": [
      "c:\\Users\\JadHa\\anaconda3\\envs\\pytorch\\Lib\\site-packages\\torchvision\\datapoints\\__init__.py:12: UserWarning: The torchvision.datapoints and torchvision.transforms.v2 namespaces are still Beta. While we do not expect major breaking changes, some APIs may still change according to user feedback. Please submit any feedback you may have in this issue: https://github.com/pytorch/vision/issues/6753, and you can also check out https://github.com/pytorch/vision/issues/7319 to learn more about the APIs that we suspect might involve future changes. You can silence this warning by calling torchvision.disable_beta_transforms_warning().\n",
      "  warnings.warn(_BETA_TRANSFORMS_WARNING)\n",
      "c:\\Users\\JadHa\\anaconda3\\envs\\pytorch\\Lib\\site-packages\\torchvision\\transforms\\v2\\__init__.py:54: UserWarning: The torchvision.datapoints and torchvision.transforms.v2 namespaces are still Beta. While we do not expect major breaking changes, some APIs may still change according to user feedback. Please submit any feedback you may have in this issue: https://github.com/pytorch/vision/issues/6753, and you can also check out https://github.com/pytorch/vision/issues/7319 to learn more about the APIs that we suspect might involve future changes. You can silence this warning by calling torchvision.disable_beta_transforms_warning().\n",
      "  warnings.warn(_BETA_TRANSFORMS_WARNING)\n"
     ]
    },
    {
     "name": "stdout",
     "output_type": "stream",
     "text": [
      "We are now using cuda.\n"
     ]
    }
   ],
   "source": [
    "%load_ext autoreload\n",
    "%autoreload 2\n",
    "\n",
    "import torch\n",
    "import torch.optim as optim\n",
    "from torchvision.models import resnet18, ResNet18_Weights\n",
    "import torchvision.transforms.v2 as transforms\n",
    "import torch.nn as nn\n",
    "from kvasir_capsule_dataset import get_dataloader\n",
    "from trainer import train_kc_model\n",
    "import gc\n",
    "from custom_transforms import GaussianBlur, RandomChoiceExtended\n",
    "import os\n",
    "\n",
    "with_gpu = torch.cuda.is_available()\n",
    "\n",
    "if with_gpu:\n",
    "    device = torch.device(\"cuda\")\n",
    "else:\n",
    "    device = torch.device(\"cpu\")\n",
    "    \n",
    "print('We are now using %s.' % device)\n",
    "\n",
    "train_path = r\"C:\\Users\\JadHa\\Desktop\\Uni\\DLMB\\DLMI-Project\\kvasir-capsule-labeled-images\\dataset_train.csv\"\n",
    "val_path = r\"C:\\Users\\JadHa\\Desktop\\Uni\\DLMB\\DLMI-Project\\kvasir-capsule-labeled-images\\dataset_test.csv\"\n",
    "dataset_path = r\"C:\\Users\\JadHa\\Desktop\\Uni\\DLMB\\DLMI-Project\\kvasir-capsule-labeled-images\\labelled_images\""
   ]
  },
  {
   "cell_type": "markdown",
   "metadata": {},
   "source": [
    "# Training with Contrastive Learning (SimCLR)"
   ]
  },
  {
   "cell_type": "code",
   "execution_count": 11,
   "metadata": {},
   "outputs": [],
   "source": [
    "from simclr import SimCLR\n",
    "from model import ResNetSimCLR\n",
    "transforms_list = [transforms.Compose([transforms.RandomResizedCrop(size=96),transforms.Resize(size=[336, 336])]),\n",
    "                   transforms.RandomRotation(degrees=360),\n",
    "                   GaussianBlur(kernel_size=3),\n",
    "                   transforms.ColorJitter(0.1, 0.1, 0.003, 0.003)]\n",
    "\n",
    "transform = RandomChoiceExtended(transforms_list, min_transforms=0, max_transforms=3)\n",
    "\n",
    "dataset_len = 39201\n",
    "\n",
    "train_loader = get_dataloader(csv_path=train_path, \n",
    "                              dataset_path=dataset_path, \n",
    "                              batch_size=64, \n",
    "                              use_preloaded=True, \n",
    "                              start_idx=0, \n",
    "                              end_idx=int(2**13)+4096, \n",
    "                              shuffle=True, \n",
    "                              transforms=transform, \n",
    "                              drop_data_till_balanced=False, \n",
    "                              simclr=True, \n",
    "                              pin_memory=True, \n",
    "                              drop_last=True)"
   ]
  },
  {
   "cell_type": "code",
   "execution_count": 43,
   "metadata": {},
   "outputs": [
    {
     "name": "stderr",
     "output_type": "stream",
     "text": [
      "c:\\Users\\JadHa\\anaconda3\\envs\\pytorch\\Lib\\site-packages\\torchvision\\models\\_utils.py:208: UserWarning: The parameter 'pretrained' is deprecated since 0.13 and may be removed in the future, please use 'weights' instead.\n",
      "  warnings.warn(\n",
      "c:\\Users\\JadHa\\anaconda3\\envs\\pytorch\\Lib\\site-packages\\torchvision\\models\\_utils.py:223: UserWarning: Arguments other than a weight enum or `None` for 'weights' are deprecated since 0.13 and may be removed in the future. The current behavior is equivalent to passing `weights=None`.\n",
      "  warnings.warn(msg)\n",
      "  0%|          | 0/192 [00:00<?, ?it/s]c:\\Users\\JadHa\\anaconda3\\envs\\pytorch\\Lib\\site-packages\\torchvision\\transforms\\functional.py:1603: UserWarning: The default value of the antialias parameter of all the resizing transforms (Resize(), RandomResizedCrop(), etc.) will change from None to True in v0.17, in order to be consistent across the PIL and Tensor backends. To suppress this warning, directly pass antialias=True (recommended, future default), antialias=None (current default, which means False for Tensors and True for PIL), or antialias=False (only works on Tensors - PIL will still use antialiasing). This also applies if you are using the inference transforms from the models weights: update the call to weights.transforms(antialias=True).\n",
      "  warnings.warn(\n",
      "c:\\Users\\JadHa\\anaconda3\\envs\\pytorch\\Lib\\site-packages\\torch\\optim\\lr_scheduler.py:814: UserWarning: To get the last learning rate computed by the scheduler, please use `get_last_lr()`.\n",
      "  warnings.warn(\"To get the last learning rate computed by the scheduler, \"\n",
      "100%|██████████| 192/192 [07:06<00:00,  2.22s/it]\n"
     ]
    },
    {
     "name": "stdout",
     "output_type": "stream",
     "text": [
      "Epoch: 0\tLoss: 2.2531490325927734\n"
     ]
    },
    {
     "name": "stderr",
     "output_type": "stream",
     "text": [
      "100%|██████████| 192/192 [07:17<00:00,  2.28s/it]\n"
     ]
    },
    {
     "name": "stdout",
     "output_type": "stream",
     "text": [
      "Epoch: 1\tLoss: 1.7051080465316772\n"
     ]
    },
    {
     "name": "stderr",
     "output_type": "stream",
     "text": [
      "100%|██████████| 192/192 [07:16<00:00,  2.27s/it]\n"
     ]
    },
    {
     "name": "stdout",
     "output_type": "stream",
     "text": [
      "Epoch: 2\tLoss: 1.1215505599975586\n"
     ]
    },
    {
     "name": "stderr",
     "output_type": "stream",
     "text": [
      "100%|██████████| 192/192 [07:03<00:00,  2.21s/it]\n"
     ]
    },
    {
     "name": "stdout",
     "output_type": "stream",
     "text": [
      "Epoch: 3\tLoss: 1.972456693649292\n"
     ]
    },
    {
     "name": "stderr",
     "output_type": "stream",
     "text": [
      "100%|██████████| 192/192 [06:56<00:00,  2.17s/it]\n"
     ]
    },
    {
     "name": "stdout",
     "output_type": "stream",
     "text": [
      "Epoch: 4\tLoss: 0.9122457504272461\n"
     ]
    },
    {
     "name": "stderr",
     "output_type": "stream",
     "text": [
      "100%|██████████| 192/192 [07:03<00:00,  2.21s/it]\n"
     ]
    },
    {
     "name": "stdout",
     "output_type": "stream",
     "text": [
      "Epoch: 5\tLoss: 0.7935145497322083\n"
     ]
    },
    {
     "name": "stderr",
     "output_type": "stream",
     "text": [
      "100%|██████████| 192/192 [07:00<00:00,  2.19s/it]\n"
     ]
    },
    {
     "name": "stdout",
     "output_type": "stream",
     "text": [
      "Epoch: 6\tLoss: 1.0135186910629272\n"
     ]
    },
    {
     "name": "stderr",
     "output_type": "stream",
     "text": [
      "100%|██████████| 192/192 [06:57<00:00,  2.17s/it]\n"
     ]
    },
    {
     "name": "stdout",
     "output_type": "stream",
     "text": [
      "Epoch: 7\tLoss: 0.9064102172851562\n"
     ]
    },
    {
     "name": "stderr",
     "output_type": "stream",
     "text": [
      "100%|██████████| 192/192 [07:01<00:00,  2.19s/it]\n"
     ]
    },
    {
     "name": "stdout",
     "output_type": "stream",
     "text": [
      "Epoch: 8\tLoss: 0.5957052707672119\n"
     ]
    },
    {
     "name": "stderr",
     "output_type": "stream",
     "text": [
      "100%|██████████| 192/192 [07:11<00:00,  2.25s/it]\n"
     ]
    },
    {
     "name": "stdout",
     "output_type": "stream",
     "text": [
      "Epoch: 9\tLoss: 1.4095003604888916\n"
     ]
    },
    {
     "name": "stderr",
     "output_type": "stream",
     "text": [
      "100%|██████████| 192/192 [07:01<00:00,  2.19s/it]\n"
     ]
    },
    {
     "name": "stdout",
     "output_type": "stream",
     "text": [
      "Epoch: 10\tLoss: 0.5840535163879395\n"
     ]
    },
    {
     "name": "stderr",
     "output_type": "stream",
     "text": [
      "100%|██████████| 192/192 [07:01<00:00,  2.20s/it]\n"
     ]
    },
    {
     "name": "stdout",
     "output_type": "stream",
     "text": [
      "Epoch: 11\tLoss: 0.5167120099067688\n"
     ]
    },
    {
     "name": "stderr",
     "output_type": "stream",
     "text": [
      "100%|██████████| 192/192 [07:23<00:00,  2.31s/it]\n"
     ]
    },
    {
     "name": "stdout",
     "output_type": "stream",
     "text": [
      "Epoch: 12\tLoss: 0.778656005859375\n"
     ]
    },
    {
     "name": "stderr",
     "output_type": "stream",
     "text": [
      "100%|██████████| 192/192 [06:58<00:00,  2.18s/it]\n"
     ]
    },
    {
     "name": "stdout",
     "output_type": "stream",
     "text": [
      "Epoch: 13\tLoss: 0.4586251974105835\n"
     ]
    },
    {
     "name": "stderr",
     "output_type": "stream",
     "text": [
      "100%|██████████| 192/192 [07:02<00:00,  2.20s/it]\n"
     ]
    },
    {
     "name": "stdout",
     "output_type": "stream",
     "text": [
      "Epoch: 14\tLoss: 1.5423729419708252\n"
     ]
    },
    {
     "name": "stderr",
     "output_type": "stream",
     "text": [
      "100%|██████████| 192/192 [06:55<00:00,  2.16s/it]\n"
     ]
    },
    {
     "name": "stdout",
     "output_type": "stream",
     "text": [
      "Epoch: 15\tLoss: 0.7708524465560913\n"
     ]
    },
    {
     "name": "stderr",
     "output_type": "stream",
     "text": [
      "100%|██████████| 192/192 [06:59<00:00,  2.18s/it]\n"
     ]
    },
    {
     "name": "stdout",
     "output_type": "stream",
     "text": [
      "Epoch: 16\tLoss: 0.6036813855171204\n"
     ]
    },
    {
     "name": "stderr",
     "output_type": "stream",
     "text": [
      "100%|██████████| 192/192 [06:59<00:00,  2.19s/it]\n"
     ]
    },
    {
     "name": "stdout",
     "output_type": "stream",
     "text": [
      "Epoch: 17\tLoss: 0.8450571298599243\n"
     ]
    },
    {
     "name": "stderr",
     "output_type": "stream",
     "text": [
      "100%|██████████| 192/192 [06:58<00:00,  2.18s/it]\n"
     ]
    },
    {
     "name": "stdout",
     "output_type": "stream",
     "text": [
      "Epoch: 18\tLoss: 0.5954111218452454\n"
     ]
    },
    {
     "name": "stderr",
     "output_type": "stream",
     "text": [
      "100%|██████████| 192/192 [07:01<00:00,  2.19s/it]\n"
     ]
    },
    {
     "name": "stdout",
     "output_type": "stream",
     "text": [
      "Epoch: 19\tLoss: 1.7102864980697632\n"
     ]
    },
    {
     "name": "stderr",
     "output_type": "stream",
     "text": [
      "100%|██████████| 192/192 [07:03<00:00,  2.21s/it]\n"
     ]
    },
    {
     "name": "stdout",
     "output_type": "stream",
     "text": [
      "Epoch: 20\tLoss: 0.885287880897522\n"
     ]
    },
    {
     "name": "stderr",
     "output_type": "stream",
     "text": [
      "100%|██████████| 192/192 [07:01<00:00,  2.19s/it]\n"
     ]
    },
    {
     "name": "stdout",
     "output_type": "stream",
     "text": [
      "Epoch: 21\tLoss: 2.7145557403564453\n"
     ]
    },
    {
     "name": "stderr",
     "output_type": "stream",
     "text": [
      "100%|██████████| 192/192 [07:18<00:00,  2.28s/it]\n"
     ]
    },
    {
     "name": "stdout",
     "output_type": "stream",
     "text": [
      "Epoch: 22\tLoss: 0.44392797350883484\n"
     ]
    },
    {
     "name": "stderr",
     "output_type": "stream",
     "text": [
      "100%|██████████| 192/192 [07:02<00:00,  2.20s/it]\n"
     ]
    },
    {
     "name": "stdout",
     "output_type": "stream",
     "text": [
      "Epoch: 23\tLoss: 0.29819566011428833\n"
     ]
    },
    {
     "name": "stderr",
     "output_type": "stream",
     "text": [
      "100%|██████████| 192/192 [06:53<00:00,  2.15s/it]\n"
     ]
    },
    {
     "name": "stdout",
     "output_type": "stream",
     "text": [
      "Epoch: 24\tLoss: 0.71708083152771\n"
     ]
    },
    {
     "name": "stderr",
     "output_type": "stream",
     "text": [
      "100%|██████████| 192/192 [06:55<00:00,  2.16s/it]\n"
     ]
    },
    {
     "name": "stdout",
     "output_type": "stream",
     "text": [
      "Epoch: 25\tLoss: 0.7494648694992065\n"
     ]
    },
    {
     "name": "stderr",
     "output_type": "stream",
     "text": [
      "100%|██████████| 192/192 [06:58<00:00,  2.18s/it]\n"
     ]
    },
    {
     "name": "stdout",
     "output_type": "stream",
     "text": [
      "Epoch: 26\tLoss: 1.4733991622924805\n"
     ]
    },
    {
     "name": "stderr",
     "output_type": "stream",
     "text": [
      "100%|██████████| 192/192 [06:59<00:00,  2.18s/it]\n"
     ]
    },
    {
     "name": "stdout",
     "output_type": "stream",
     "text": [
      "Epoch: 27\tLoss: 0.6344439387321472\n"
     ]
    },
    {
     "name": "stderr",
     "output_type": "stream",
     "text": [
      "100%|██████████| 192/192 [06:58<00:00,  2.18s/it]\n"
     ]
    },
    {
     "name": "stdout",
     "output_type": "stream",
     "text": [
      "Epoch: 28\tLoss: 0.9277408719062805\n"
     ]
    },
    {
     "name": "stderr",
     "output_type": "stream",
     "text": [
      "100%|██████████| 192/192 [06:55<00:00,  2.16s/it]\n"
     ]
    },
    {
     "name": "stdout",
     "output_type": "stream",
     "text": [
      "Epoch: 29\tLoss: 0.3448299467563629\n"
     ]
    },
    {
     "name": "stderr",
     "output_type": "stream",
     "text": [
      "100%|██████████| 192/192 [06:53<00:00,  2.15s/it]\n"
     ]
    },
    {
     "name": "stdout",
     "output_type": "stream",
     "text": [
      "Epoch: 30\tLoss: 0.8180556297302246\n"
     ]
    },
    {
     "name": "stderr",
     "output_type": "stream",
     "text": [
      "100%|██████████| 192/192 [07:00<00:00,  2.19s/it]\n"
     ]
    },
    {
     "name": "stdout",
     "output_type": "stream",
     "text": [
      "Epoch: 31\tLoss: 0.33386528491973877\n"
     ]
    },
    {
     "name": "stderr",
     "output_type": "stream",
     "text": [
      "100%|██████████| 192/192 [07:15<00:00,  2.27s/it]\n"
     ]
    },
    {
     "name": "stdout",
     "output_type": "stream",
     "text": [
      "Epoch: 32\tLoss: 1.0371906757354736\n"
     ]
    },
    {
     "name": "stderr",
     "output_type": "stream",
     "text": [
      "100%|██████████| 192/192 [07:07<00:00,  2.23s/it]\n"
     ]
    },
    {
     "name": "stdout",
     "output_type": "stream",
     "text": [
      "Epoch: 33\tLoss: 0.8706024289131165\n"
     ]
    },
    {
     "name": "stderr",
     "output_type": "stream",
     "text": [
      "100%|██████████| 192/192 [06:57<00:00,  2.18s/it]\n"
     ]
    },
    {
     "name": "stdout",
     "output_type": "stream",
     "text": [
      "Epoch: 34\tLoss: 0.707263708114624\n"
     ]
    },
    {
     "name": "stderr",
     "output_type": "stream",
     "text": [
      "100%|██████████| 192/192 [06:59<00:00,  2.19s/it]\n"
     ]
    },
    {
     "name": "stdout",
     "output_type": "stream",
     "text": [
      "Epoch: 35\tLoss: 0.49317753314971924\n"
     ]
    },
    {
     "name": "stderr",
     "output_type": "stream",
     "text": [
      "100%|██████████| 192/192 [06:57<00:00,  2.18s/it]\n"
     ]
    },
    {
     "name": "stdout",
     "output_type": "stream",
     "text": [
      "Epoch: 36\tLoss: 0.7868250608444214\n"
     ]
    },
    {
     "name": "stderr",
     "output_type": "stream",
     "text": [
      "100%|██████████| 192/192 [06:55<00:00,  2.17s/it]\n"
     ]
    },
    {
     "name": "stdout",
     "output_type": "stream",
     "text": [
      "Epoch: 37\tLoss: 1.3775726556777954\n"
     ]
    },
    {
     "name": "stderr",
     "output_type": "stream",
     "text": [
      "100%|██████████| 192/192 [06:57<00:00,  2.18s/it]\n"
     ]
    },
    {
     "name": "stdout",
     "output_type": "stream",
     "text": [
      "Epoch: 38\tLoss: 1.232825517654419\n"
     ]
    },
    {
     "name": "stderr",
     "output_type": "stream",
     "text": [
      "100%|██████████| 192/192 [07:01<00:00,  2.20s/it]\n"
     ]
    },
    {
     "name": "stdout",
     "output_type": "stream",
     "text": [
      "Epoch: 39\tLoss: 0.3615981936454773\n"
     ]
    },
    {
     "name": "stderr",
     "output_type": "stream",
     "text": [
      "100%|██████████| 192/192 [06:57<00:00,  2.17s/it]\n"
     ]
    },
    {
     "name": "stdout",
     "output_type": "stream",
     "text": [
      "Epoch: 40\tLoss: 0.3669615685939789\n"
     ]
    },
    {
     "name": "stderr",
     "output_type": "stream",
     "text": [
      "100%|██████████| 192/192 [07:01<00:00,  2.20s/it]\n"
     ]
    },
    {
     "name": "stdout",
     "output_type": "stream",
     "text": [
      "Epoch: 41\tLoss: 1.2365336418151855\n"
     ]
    },
    {
     "name": "stderr",
     "output_type": "stream",
     "text": [
      "100%|██████████| 192/192 [07:13<00:00,  2.26s/it]\n"
     ]
    },
    {
     "name": "stdout",
     "output_type": "stream",
     "text": [
      "Epoch: 42\tLoss: 0.4501655697822571\n"
     ]
    },
    {
     "name": "stderr",
     "output_type": "stream",
     "text": [
      "100%|██████████| 192/192 [07:03<00:00,  2.21s/it]\n"
     ]
    },
    {
     "name": "stdout",
     "output_type": "stream",
     "text": [
      "Epoch: 43\tLoss: 1.322818398475647\n"
     ]
    },
    {
     "name": "stderr",
     "output_type": "stream",
     "text": [
      "100%|██████████| 192/192 [07:00<00:00,  2.19s/it]\n"
     ]
    },
    {
     "name": "stdout",
     "output_type": "stream",
     "text": [
      "Epoch: 44\tLoss: 0.478716641664505\n"
     ]
    },
    {
     "name": "stderr",
     "output_type": "stream",
     "text": [
      "100%|██████████| 192/192 [06:57<00:00,  2.18s/it]\n"
     ]
    },
    {
     "name": "stdout",
     "output_type": "stream",
     "text": [
      "Epoch: 45\tLoss: 0.8350521922111511\n"
     ]
    },
    {
     "name": "stderr",
     "output_type": "stream",
     "text": [
      "100%|██████████| 192/192 [06:54<00:00,  2.16s/it]\n"
     ]
    },
    {
     "name": "stdout",
     "output_type": "stream",
     "text": [
      "Epoch: 46\tLoss: 0.37174293398857117\n"
     ]
    },
    {
     "name": "stderr",
     "output_type": "stream",
     "text": [
      "100%|██████████| 192/192 [06:58<00:00,  2.18s/it]\n"
     ]
    },
    {
     "name": "stdout",
     "output_type": "stream",
     "text": [
      "Epoch: 47\tLoss: 0.3052789568901062\n"
     ]
    },
    {
     "name": "stderr",
     "output_type": "stream",
     "text": [
      "100%|██████████| 192/192 [06:57<00:00,  2.18s/it]\n"
     ]
    },
    {
     "name": "stdout",
     "output_type": "stream",
     "text": [
      "Epoch: 48\tLoss: 0.4849785566329956\n"
     ]
    },
    {
     "name": "stderr",
     "output_type": "stream",
     "text": [
      "100%|██████████| 192/192 [07:06<00:00,  2.22s/it]\n"
     ]
    },
    {
     "name": "stdout",
     "output_type": "stream",
     "text": [
      "Epoch: 49\tLoss: 0.41147351264953613\n"
     ]
    },
    {
     "name": "stderr",
     "output_type": "stream",
     "text": [
      "100%|██████████| 192/192 [06:58<00:00,  2.18s/it]\n"
     ]
    },
    {
     "name": "stdout",
     "output_type": "stream",
     "text": [
      "Epoch: 50\tLoss: 0.5000397562980652\n"
     ]
    },
    {
     "name": "stderr",
     "output_type": "stream",
     "text": [
      "100%|██████████| 192/192 [07:07<00:00,  2.23s/it]\n"
     ]
    },
    {
     "name": "stdout",
     "output_type": "stream",
     "text": [
      "Epoch: 51\tLoss: 1.0626264810562134\n"
     ]
    },
    {
     "name": "stderr",
     "output_type": "stream",
     "text": [
      "100%|██████████| 192/192 [07:18<00:00,  2.29s/it]\n"
     ]
    },
    {
     "name": "stdout",
     "output_type": "stream",
     "text": [
      "Epoch: 52\tLoss: 1.0317132472991943\n"
     ]
    },
    {
     "name": "stderr",
     "output_type": "stream",
     "text": [
      "100%|██████████| 192/192 [06:56<00:00,  2.17s/it]\n"
     ]
    },
    {
     "name": "stdout",
     "output_type": "stream",
     "text": [
      "Epoch: 53\tLoss: 0.2687304615974426\n"
     ]
    },
    {
     "name": "stderr",
     "output_type": "stream",
     "text": [
      "100%|██████████| 192/192 [06:59<00:00,  2.19s/it]\n"
     ]
    },
    {
     "name": "stdout",
     "output_type": "stream",
     "text": [
      "Epoch: 54\tLoss: 0.1234329342842102\n"
     ]
    },
    {
     "name": "stderr",
     "output_type": "stream",
     "text": [
      "100%|██████████| 192/192 [06:57<00:00,  2.18s/it]\n"
     ]
    },
    {
     "name": "stdout",
     "output_type": "stream",
     "text": [
      "Epoch: 55\tLoss: 0.2005760222673416\n"
     ]
    },
    {
     "name": "stderr",
     "output_type": "stream",
     "text": [
      "100%|██████████| 192/192 [07:01<00:00,  2.19s/it]\n"
     ]
    },
    {
     "name": "stdout",
     "output_type": "stream",
     "text": [
      "Epoch: 56\tLoss: 0.6462100744247437\n"
     ]
    },
    {
     "name": "stderr",
     "output_type": "stream",
     "text": [
      "100%|██████████| 192/192 [06:58<00:00,  2.18s/it]\n"
     ]
    },
    {
     "name": "stdout",
     "output_type": "stream",
     "text": [
      "Epoch: 57\tLoss: 1.1432130336761475\n"
     ]
    },
    {
     "name": "stderr",
     "output_type": "stream",
     "text": [
      "100%|██████████| 192/192 [06:57<00:00,  2.18s/it]\n"
     ]
    },
    {
     "name": "stdout",
     "output_type": "stream",
     "text": [
      "Epoch: 58\tLoss: 0.30191561579704285\n"
     ]
    },
    {
     "name": "stderr",
     "output_type": "stream",
     "text": [
      "100%|██████████| 192/192 [06:58<00:00,  2.18s/it]\n"
     ]
    },
    {
     "name": "stdout",
     "output_type": "stream",
     "text": [
      "Epoch: 59\tLoss: 1.184007167816162\n"
     ]
    },
    {
     "name": "stderr",
     "output_type": "stream",
     "text": [
      "100%|██████████| 192/192 [06:58<00:00,  2.18s/it]\n"
     ]
    },
    {
     "name": "stdout",
     "output_type": "stream",
     "text": [
      "Epoch: 60\tLoss: 0.3576620817184448\n"
     ]
    },
    {
     "name": "stderr",
     "output_type": "stream",
     "text": [
      "100%|██████████| 192/192 [07:06<00:00,  2.22s/it]\n"
     ]
    },
    {
     "name": "stdout",
     "output_type": "stream",
     "text": [
      "Epoch: 61\tLoss: 0.31897106766700745\n"
     ]
    },
    {
     "name": "stderr",
     "output_type": "stream",
     "text": [
      "100%|██████████| 192/192 [07:12<00:00,  2.25s/it]\n"
     ]
    },
    {
     "name": "stdout",
     "output_type": "stream",
     "text": [
      "Epoch: 62\tLoss: 1.1469839811325073\n"
     ]
    },
    {
     "name": "stderr",
     "output_type": "stream",
     "text": [
      "100%|██████████| 192/192 [06:57<00:00,  2.18s/it]\n"
     ]
    },
    {
     "name": "stdout",
     "output_type": "stream",
     "text": [
      "Epoch: 63\tLoss: 0.6231482028961182\n"
     ]
    },
    {
     "name": "stderr",
     "output_type": "stream",
     "text": [
      "100%|██████████| 192/192 [07:02<00:00,  2.20s/it]\n"
     ]
    },
    {
     "name": "stdout",
     "output_type": "stream",
     "text": [
      "Epoch: 64\tLoss: 0.6482008695602417\n"
     ]
    },
    {
     "name": "stderr",
     "output_type": "stream",
     "text": [
      "100%|██████████| 192/192 [07:04<00:00,  2.21s/it]\n"
     ]
    },
    {
     "name": "stdout",
     "output_type": "stream",
     "text": [
      "Epoch: 65\tLoss: 0.6344423294067383\n"
     ]
    },
    {
     "name": "stderr",
     "output_type": "stream",
     "text": [
      "100%|██████████| 192/192 [06:56<00:00,  2.17s/it]\n"
     ]
    },
    {
     "name": "stdout",
     "output_type": "stream",
     "text": [
      "Epoch: 66\tLoss: 0.41362881660461426\n"
     ]
    },
    {
     "name": "stderr",
     "output_type": "stream",
     "text": [
      "100%|██████████| 192/192 [06:59<00:00,  2.19s/it]\n"
     ]
    },
    {
     "name": "stdout",
     "output_type": "stream",
     "text": [
      "Epoch: 67\tLoss: 0.4081663489341736\n"
     ]
    },
    {
     "name": "stderr",
     "output_type": "stream",
     "text": [
      "100%|██████████| 192/192 [07:02<00:00,  2.20s/it]\n"
     ]
    },
    {
     "name": "stdout",
     "output_type": "stream",
     "text": [
      "Epoch: 68\tLoss: 0.4168906509876251\n"
     ]
    },
    {
     "name": "stderr",
     "output_type": "stream",
     "text": [
      "100%|██████████| 192/192 [06:48<00:00,  2.13s/it]\n"
     ]
    },
    {
     "name": "stdout",
     "output_type": "stream",
     "text": [
      "Epoch: 69\tLoss: 0.6517927646636963\n"
     ]
    },
    {
     "name": "stderr",
     "output_type": "stream",
     "text": [
      "100%|██████████| 192/192 [06:45<00:00,  2.11s/it]\n"
     ]
    },
    {
     "name": "stdout",
     "output_type": "stream",
     "text": [
      "Epoch: 70\tLoss: 0.9837464690208435\n"
     ]
    },
    {
     "name": "stderr",
     "output_type": "stream",
     "text": [
      "100%|██████████| 192/192 [06:47<00:00,  2.12s/it]\n"
     ]
    },
    {
     "name": "stdout",
     "output_type": "stream",
     "text": [
      "Epoch: 71\tLoss: 0.28088605403900146\n"
     ]
    },
    {
     "name": "stderr",
     "output_type": "stream",
     "text": [
      "100%|██████████| 192/192 [06:57<00:00,  2.17s/it]\n"
     ]
    },
    {
     "name": "stdout",
     "output_type": "stream",
     "text": [
      "Epoch: 72\tLoss: 0.49288368225097656\n"
     ]
    },
    {
     "name": "stderr",
     "output_type": "stream",
     "text": [
      "100%|██████████| 192/192 [06:55<00:00,  2.16s/it]\n"
     ]
    },
    {
     "name": "stdout",
     "output_type": "stream",
     "text": [
      "Epoch: 73\tLoss: 0.16639167070388794\n"
     ]
    },
    {
     "name": "stderr",
     "output_type": "stream",
     "text": [
      "100%|██████████| 192/192 [06:40<00:00,  2.09s/it]\n"
     ]
    },
    {
     "name": "stdout",
     "output_type": "stream",
     "text": [
      "Epoch: 74\tLoss: 0.47368571162223816\n"
     ]
    },
    {
     "name": "stderr",
     "output_type": "stream",
     "text": [
      "100%|██████████| 192/192 [06:43<00:00,  2.10s/it]\n"
     ]
    },
    {
     "name": "stdout",
     "output_type": "stream",
     "text": [
      "Epoch: 75\tLoss: 0.37473064661026\n"
     ]
    },
    {
     "name": "stderr",
     "output_type": "stream",
     "text": [
      "100%|██████████| 192/192 [06:48<00:00,  2.13s/it]\n"
     ]
    },
    {
     "name": "stdout",
     "output_type": "stream",
     "text": [
      "Epoch: 76\tLoss: 0.15805402398109436\n"
     ]
    },
    {
     "name": "stderr",
     "output_type": "stream",
     "text": [
      "100%|██████████| 192/192 [07:01<00:00,  2.20s/it]\n"
     ]
    },
    {
     "name": "stdout",
     "output_type": "stream",
     "text": [
      "Epoch: 77\tLoss: 0.4914311170578003\n"
     ]
    },
    {
     "name": "stderr",
     "output_type": "stream",
     "text": [
      "100%|██████████| 192/192 [06:57<00:00,  2.17s/it]\n"
     ]
    },
    {
     "name": "stdout",
     "output_type": "stream",
     "text": [
      "Epoch: 78\tLoss: 1.2932891845703125\n"
     ]
    },
    {
     "name": "stderr",
     "output_type": "stream",
     "text": [
      "100%|██████████| 192/192 [07:00<00:00,  2.19s/it]\n"
     ]
    },
    {
     "name": "stdout",
     "output_type": "stream",
     "text": [
      "Epoch: 79\tLoss: 0.28116363286972046\n"
     ]
    },
    {
     "name": "stderr",
     "output_type": "stream",
     "text": [
      "100%|██████████| 192/192 [06:55<00:00,  2.16s/it]\n"
     ]
    },
    {
     "name": "stdout",
     "output_type": "stream",
     "text": [
      "Epoch: 80\tLoss: 1.7395963668823242\n"
     ]
    },
    {
     "name": "stderr",
     "output_type": "stream",
     "text": [
      "100%|██████████| 192/192 [06:57<00:00,  2.17s/it]\n"
     ]
    },
    {
     "name": "stdout",
     "output_type": "stream",
     "text": [
      "Epoch: 81\tLoss: 0.26812246441841125\n"
     ]
    },
    {
     "name": "stderr",
     "output_type": "stream",
     "text": [
      "100%|██████████| 192/192 [06:50<00:00,  2.14s/it]\n"
     ]
    },
    {
     "name": "stdout",
     "output_type": "stream",
     "text": [
      "Epoch: 82\tLoss: 0.5526418089866638\n"
     ]
    },
    {
     "name": "stderr",
     "output_type": "stream",
     "text": [
      "100%|██████████| 192/192 [06:53<00:00,  2.15s/it]\n"
     ]
    },
    {
     "name": "stdout",
     "output_type": "stream",
     "text": [
      "Epoch: 83\tLoss: 2.0587191581726074\n"
     ]
    },
    {
     "name": "stderr",
     "output_type": "stream",
     "text": [
      "100%|██████████| 192/192 [07:03<00:00,  2.21s/it]\n"
     ]
    },
    {
     "name": "stdout",
     "output_type": "stream",
     "text": [
      "Epoch: 84\tLoss: 1.7523753643035889\n"
     ]
    },
    {
     "name": "stderr",
     "output_type": "stream",
     "text": [
      "100%|██████████| 192/192 [06:49<00:00,  2.13s/it]\n"
     ]
    },
    {
     "name": "stdout",
     "output_type": "stream",
     "text": [
      "Epoch: 85\tLoss: 0.32045382261276245\n"
     ]
    },
    {
     "name": "stderr",
     "output_type": "stream",
     "text": [
      "100%|██████████| 192/192 [06:44<00:00,  2.11s/it]\n"
     ]
    },
    {
     "name": "stdout",
     "output_type": "stream",
     "text": [
      "Epoch: 86\tLoss: 0.39758551120758057\n"
     ]
    },
    {
     "name": "stderr",
     "output_type": "stream",
     "text": [
      "100%|██████████| 192/192 [06:43<00:00,  2.10s/it]\n"
     ]
    },
    {
     "name": "stdout",
     "output_type": "stream",
     "text": [
      "Epoch: 87\tLoss: 0.3469770848751068\n"
     ]
    },
    {
     "name": "stderr",
     "output_type": "stream",
     "text": [
      "100%|██████████| 192/192 [06:47<00:00,  2.12s/it]\n"
     ]
    },
    {
     "name": "stdout",
     "output_type": "stream",
     "text": [
      "Epoch: 88\tLoss: 1.7217386960983276\n"
     ]
    },
    {
     "name": "stderr",
     "output_type": "stream",
     "text": [
      "100%|██████████| 192/192 [06:42<00:00,  2.10s/it]\n"
     ]
    },
    {
     "name": "stdout",
     "output_type": "stream",
     "text": [
      "Epoch: 89\tLoss: 9.14508056640625\n"
     ]
    },
    {
     "name": "stderr",
     "output_type": "stream",
     "text": [
      "100%|██████████| 192/192 [06:46<00:00,  2.12s/it]\n"
     ]
    },
    {
     "name": "stdout",
     "output_type": "stream",
     "text": [
      "Epoch: 90\tLoss: 0.4481651782989502\n"
     ]
    },
    {
     "name": "stderr",
     "output_type": "stream",
     "text": [
      "100%|██████████| 192/192 [06:40<00:00,  2.09s/it]\n"
     ]
    },
    {
     "name": "stdout",
     "output_type": "stream",
     "text": [
      "Epoch: 91\tLoss: 1.1797230243682861\n"
     ]
    },
    {
     "name": "stderr",
     "output_type": "stream",
     "text": [
      "100%|██████████| 192/192 [06:42<00:00,  2.09s/it]\n"
     ]
    },
    {
     "name": "stdout",
     "output_type": "stream",
     "text": [
      "Epoch: 92\tLoss: 1.6793129444122314\n"
     ]
    },
    {
     "name": "stderr",
     "output_type": "stream",
     "text": [
      "100%|██████████| 192/192 [06:45<00:00,  2.11s/it]\n"
     ]
    },
    {
     "name": "stdout",
     "output_type": "stream",
     "text": [
      "Epoch: 93\tLoss: 0.2606317400932312\n"
     ]
    },
    {
     "name": "stderr",
     "output_type": "stream",
     "text": [
      "100%|██████████| 192/192 [07:01<00:00,  2.20s/it]\n"
     ]
    },
    {
     "name": "stdout",
     "output_type": "stream",
     "text": [
      "Epoch: 94\tLoss: 0.22142867743968964\n"
     ]
    },
    {
     "name": "stderr",
     "output_type": "stream",
     "text": [
      "100%|██████████| 192/192 [06:54<00:00,  2.16s/it]\n"
     ]
    },
    {
     "name": "stdout",
     "output_type": "stream",
     "text": [
      "Epoch: 95\tLoss: 0.20613542199134827\n"
     ]
    },
    {
     "name": "stderr",
     "output_type": "stream",
     "text": [
      "100%|██████████| 192/192 [06:42<00:00,  2.09s/it]\n"
     ]
    },
    {
     "name": "stdout",
     "output_type": "stream",
     "text": [
      "Epoch: 96\tLoss: 0.2448015809059143\n"
     ]
    },
    {
     "name": "stderr",
     "output_type": "stream",
     "text": [
      "100%|██████████| 192/192 [06:42<00:00,  2.10s/it]\n"
     ]
    },
    {
     "name": "stdout",
     "output_type": "stream",
     "text": [
      "Epoch: 97\tLoss: 0.16851909458637238\n"
     ]
    },
    {
     "name": "stderr",
     "output_type": "stream",
     "text": [
      "100%|██████████| 192/192 [06:41<00:00,  2.09s/it]\n"
     ]
    },
    {
     "name": "stdout",
     "output_type": "stream",
     "text": [
      "Epoch: 98\tLoss: 0.2897515892982483\n"
     ]
    },
    {
     "name": "stderr",
     "output_type": "stream",
     "text": [
      "100%|██████████| 192/192 [06:42<00:00,  2.10s/it]\n"
     ]
    },
    {
     "name": "stdout",
     "output_type": "stream",
     "text": [
      "Epoch: 99\tLoss: 0.3424556255340576\n"
     ]
    },
    {
     "name": "stderr",
     "output_type": "stream",
     "text": [
      "100%|██████████| 192/192 [06:39<00:00,  2.08s/it]\n"
     ]
    },
    {
     "name": "stdout",
     "output_type": "stream",
     "text": [
      "Epoch: 100\tLoss: 0.2465226650238037\n"
     ]
    },
    {
     "name": "stderr",
     "output_type": "stream",
     "text": [
      "100%|██████████| 192/192 [06:46<00:00,  2.12s/it]\n"
     ]
    },
    {
     "name": "stdout",
     "output_type": "stream",
     "text": [
      "Epoch: 101\tLoss: 0.7001491785049438\n"
     ]
    },
    {
     "name": "stderr",
     "output_type": "stream",
     "text": [
      "100%|██████████| 192/192 [06:43<00:00,  2.10s/it]\n"
     ]
    },
    {
     "name": "stdout",
     "output_type": "stream",
     "text": [
      "Epoch: 102\tLoss: 0.18870383501052856\n"
     ]
    },
    {
     "name": "stderr",
     "output_type": "stream",
     "text": [
      "100%|██████████| 192/192 [06:44<00:00,  2.11s/it]\n"
     ]
    },
    {
     "name": "stdout",
     "output_type": "stream",
     "text": [
      "Epoch: 103\tLoss: 0.3873102068901062\n"
     ]
    },
    {
     "name": "stderr",
     "output_type": "stream",
     "text": [
      "100%|██████████| 192/192 [06:48<00:00,  2.13s/it]\n"
     ]
    },
    {
     "name": "stdout",
     "output_type": "stream",
     "text": [
      "Epoch: 104\tLoss: 0.31436777114868164\n"
     ]
    },
    {
     "name": "stderr",
     "output_type": "stream",
     "text": [
      "100%|██████████| 192/192 [07:06<00:00,  2.22s/it]\n"
     ]
    },
    {
     "name": "stdout",
     "output_type": "stream",
     "text": [
      "Epoch: 105\tLoss: 0.5171740055084229\n"
     ]
    },
    {
     "name": "stderr",
     "output_type": "stream",
     "text": [
      "100%|██████████| 192/192 [06:38<00:00,  2.08s/it]\n"
     ]
    },
    {
     "name": "stdout",
     "output_type": "stream",
     "text": [
      "Epoch: 106\tLoss: 0.33017081022262573\n"
     ]
    },
    {
     "name": "stderr",
     "output_type": "stream",
     "text": [
      "100%|██████████| 192/192 [06:45<00:00,  2.11s/it]\n"
     ]
    },
    {
     "name": "stdout",
     "output_type": "stream",
     "text": [
      "Epoch: 107\tLoss: 3.7625908851623535\n"
     ]
    },
    {
     "name": "stderr",
     "output_type": "stream",
     "text": [
      "100%|██████████| 192/192 [06:41<00:00,  2.09s/it]\n"
     ]
    },
    {
     "name": "stdout",
     "output_type": "stream",
     "text": [
      "Epoch: 108\tLoss: 0.21616104245185852\n"
     ]
    },
    {
     "name": "stderr",
     "output_type": "stream",
     "text": [
      "100%|██████████| 192/192 [06:37<00:00,  2.07s/it]\n"
     ]
    },
    {
     "name": "stdout",
     "output_type": "stream",
     "text": [
      "Epoch: 109\tLoss: 0.2347840964794159\n"
     ]
    },
    {
     "name": "stderr",
     "output_type": "stream",
     "text": [
      "100%|██████████| 192/192 [06:43<00:00,  2.10s/it]\n"
     ]
    },
    {
     "name": "stdout",
     "output_type": "stream",
     "text": [
      "Epoch: 110\tLoss: 0.3277970850467682\n"
     ]
    },
    {
     "name": "stderr",
     "output_type": "stream",
     "text": [
      "100%|██████████| 192/192 [06:46<00:00,  2.12s/it]\n"
     ]
    },
    {
     "name": "stdout",
     "output_type": "stream",
     "text": [
      "Epoch: 111\tLoss: 0.23358601331710815\n"
     ]
    },
    {
     "name": "stderr",
     "output_type": "stream",
     "text": [
      "100%|██████████| 192/192 [06:44<00:00,  2.11s/it]\n"
     ]
    },
    {
     "name": "stdout",
     "output_type": "stream",
     "text": [
      "Epoch: 112\tLoss: 2.5940425395965576\n"
     ]
    },
    {
     "name": "stderr",
     "output_type": "stream",
     "text": [
      "100%|██████████| 192/192 [06:46<00:00,  2.12s/it]\n"
     ]
    },
    {
     "name": "stdout",
     "output_type": "stream",
     "text": [
      "Epoch: 113\tLoss: 0.17243659496307373\n"
     ]
    },
    {
     "name": "stderr",
     "output_type": "stream",
     "text": [
      "100%|██████████| 192/192 [06:50<00:00,  2.14s/it]\n"
     ]
    },
    {
     "name": "stdout",
     "output_type": "stream",
     "text": [
      "Epoch: 114\tLoss: 0.21876731514930725\n"
     ]
    },
    {
     "name": "stderr",
     "output_type": "stream",
     "text": [
      "100%|██████████| 192/192 [06:59<00:00,  2.19s/it]\n"
     ]
    },
    {
     "name": "stdout",
     "output_type": "stream",
     "text": [
      "Epoch: 115\tLoss: 1.6632837057113647\n"
     ]
    },
    {
     "name": "stderr",
     "output_type": "stream",
     "text": [
      "100%|██████████| 192/192 [06:59<00:00,  2.18s/it]\n"
     ]
    },
    {
     "name": "stdout",
     "output_type": "stream",
     "text": [
      "Epoch: 116\tLoss: 0.48003578186035156\n"
     ]
    },
    {
     "name": "stderr",
     "output_type": "stream",
     "text": [
      "100%|██████████| 192/192 [06:43<00:00,  2.10s/it]\n"
     ]
    },
    {
     "name": "stdout",
     "output_type": "stream",
     "text": [
      "Epoch: 117\tLoss: 0.1141618937253952\n"
     ]
    },
    {
     "name": "stderr",
     "output_type": "stream",
     "text": [
      "100%|██████████| 192/192 [06:41<00:00,  2.09s/it]\n"
     ]
    },
    {
     "name": "stdout",
     "output_type": "stream",
     "text": [
      "Epoch: 118\tLoss: 0.2628929615020752\n"
     ]
    },
    {
     "name": "stderr",
     "output_type": "stream",
     "text": [
      "100%|██████████| 192/192 [06:46<00:00,  2.12s/it]\n"
     ]
    },
    {
     "name": "stdout",
     "output_type": "stream",
     "text": [
      "Epoch: 119\tLoss: 0.053460247814655304\n"
     ]
    },
    {
     "name": "stderr",
     "output_type": "stream",
     "text": [
      "100%|██████████| 192/192 [06:45<00:00,  2.11s/it]\n"
     ]
    },
    {
     "name": "stdout",
     "output_type": "stream",
     "text": [
      "Epoch: 120\tLoss: 0.16094531118869781\n"
     ]
    },
    {
     "name": "stderr",
     "output_type": "stream",
     "text": [
      "100%|██████████| 192/192 [06:49<00:00,  2.13s/it]\n"
     ]
    },
    {
     "name": "stdout",
     "output_type": "stream",
     "text": [
      "Epoch: 121\tLoss: 0.24290606379508972\n"
     ]
    },
    {
     "name": "stderr",
     "output_type": "stream",
     "text": [
      "100%|██████████| 192/192 [06:46<00:00,  2.12s/it]\n"
     ]
    },
    {
     "name": "stdout",
     "output_type": "stream",
     "text": [
      "Epoch: 122\tLoss: 1.1804393529891968\n"
     ]
    },
    {
     "name": "stderr",
     "output_type": "stream",
     "text": [
      "100%|██████████| 192/192 [06:41<00:00,  2.09s/it]\n"
     ]
    },
    {
     "name": "stdout",
     "output_type": "stream",
     "text": [
      "Epoch: 123\tLoss: 0.7236275672912598\n"
     ]
    },
    {
     "name": "stderr",
     "output_type": "stream",
     "text": [
      "100%|██████████| 192/192 [06:46<00:00,  2.12s/it]\n"
     ]
    },
    {
     "name": "stdout",
     "output_type": "stream",
     "text": [
      "Epoch: 124\tLoss: 0.23613902926445007\n"
     ]
    },
    {
     "name": "stderr",
     "output_type": "stream",
     "text": [
      "100%|██████████| 192/192 [06:39<00:00,  2.08s/it]\n"
     ]
    },
    {
     "name": "stdout",
     "output_type": "stream",
     "text": [
      "Epoch: 125\tLoss: 0.47387516498565674\n"
     ]
    },
    {
     "name": "stderr",
     "output_type": "stream",
     "text": [
      "100%|██████████| 192/192 [07:03<00:00,  2.20s/it]\n"
     ]
    },
    {
     "name": "stdout",
     "output_type": "stream",
     "text": [
      "Epoch: 126\tLoss: 0.24783849716186523\n"
     ]
    },
    {
     "name": "stderr",
     "output_type": "stream",
     "text": [
      "100%|██████████| 192/192 [06:49<00:00,  2.13s/it]\n"
     ]
    },
    {
     "name": "stdout",
     "output_type": "stream",
     "text": [
      "Epoch: 127\tLoss: 0.20300257205963135\n"
     ]
    },
    {
     "name": "stderr",
     "output_type": "stream",
     "text": [
      "100%|██████████| 192/192 [06:44<00:00,  2.11s/it]\n"
     ]
    },
    {
     "name": "stdout",
     "output_type": "stream",
     "text": [
      "Epoch: 128\tLoss: 1.0653536319732666\n"
     ]
    },
    {
     "name": "stderr",
     "output_type": "stream",
     "text": [
      "100%|██████████| 192/192 [06:43<00:00,  2.10s/it]\n"
     ]
    },
    {
     "name": "stdout",
     "output_type": "stream",
     "text": [
      "Epoch: 129\tLoss: 3.8481898307800293\n"
     ]
    },
    {
     "name": "stderr",
     "output_type": "stream",
     "text": [
      "100%|██████████| 192/192 [06:45<00:00,  2.11s/it]\n"
     ]
    },
    {
     "name": "stdout",
     "output_type": "stream",
     "text": [
      "Epoch: 130\tLoss: 1.0757293701171875\n"
     ]
    },
    {
     "name": "stderr",
     "output_type": "stream",
     "text": [
      "100%|██████████| 192/192 [06:45<00:00,  2.11s/it]\n"
     ]
    },
    {
     "name": "stdout",
     "output_type": "stream",
     "text": [
      "Epoch: 131\tLoss: 0.5935533046722412\n"
     ]
    },
    {
     "name": "stderr",
     "output_type": "stream",
     "text": [
      "100%|██████████| 192/192 [06:45<00:00,  2.11s/it]\n"
     ]
    },
    {
     "name": "stdout",
     "output_type": "stream",
     "text": [
      "Epoch: 132\tLoss: 0.15170511603355408\n"
     ]
    },
    {
     "name": "stderr",
     "output_type": "stream",
     "text": [
      "100%|██████████| 192/192 [06:47<00:00,  2.12s/it]\n"
     ]
    },
    {
     "name": "stdout",
     "output_type": "stream",
     "text": [
      "Epoch: 133\tLoss: 0.36051803827285767\n"
     ]
    },
    {
     "name": "stderr",
     "output_type": "stream",
     "text": [
      "100%|██████████| 192/192 [06:48<00:00,  2.13s/it]\n"
     ]
    },
    {
     "name": "stdout",
     "output_type": "stream",
     "text": [
      "Epoch: 134\tLoss: 0.15562091767787933\n"
     ]
    },
    {
     "name": "stderr",
     "output_type": "stream",
     "text": [
      "100%|██████████| 192/192 [06:47<00:00,  2.12s/it]\n"
     ]
    },
    {
     "name": "stdout",
     "output_type": "stream",
     "text": [
      "Epoch: 135\tLoss: 0.24977153539657593\n"
     ]
    },
    {
     "name": "stderr",
     "output_type": "stream",
     "text": [
      "100%|██████████| 192/192 [06:49<00:00,  2.13s/it]\n"
     ]
    },
    {
     "name": "stdout",
     "output_type": "stream",
     "text": [
      "Epoch: 136\tLoss: 0.21761320531368256\n"
     ]
    },
    {
     "name": "stderr",
     "output_type": "stream",
     "text": [
      "100%|██████████| 192/192 [06:54<00:00,  2.16s/it]\n"
     ]
    },
    {
     "name": "stdout",
     "output_type": "stream",
     "text": [
      "Epoch: 137\tLoss: 0.33152493834495544\n"
     ]
    },
    {
     "name": "stderr",
     "output_type": "stream",
     "text": [
      "100%|██████████| 192/192 [06:52<00:00,  2.15s/it]\n"
     ]
    },
    {
     "name": "stdout",
     "output_type": "stream",
     "text": [
      "Epoch: 138\tLoss: 0.1452987939119339\n"
     ]
    },
    {
     "name": "stderr",
     "output_type": "stream",
     "text": [
      "100%|██████████| 192/192 [06:47<00:00,  2.12s/it]\n"
     ]
    },
    {
     "name": "stdout",
     "output_type": "stream",
     "text": [
      "Epoch: 139\tLoss: 0.2454790323972702\n"
     ]
    },
    {
     "name": "stderr",
     "output_type": "stream",
     "text": [
      "100%|██████████| 192/192 [06:47<00:00,  2.12s/it]\n"
     ]
    },
    {
     "name": "stdout",
     "output_type": "stream",
     "text": [
      "Epoch: 140\tLoss: 0.1890789270401001\n"
     ]
    },
    {
     "name": "stderr",
     "output_type": "stream",
     "text": [
      "100%|██████████| 192/192 [06:53<00:00,  2.15s/it]\n"
     ]
    },
    {
     "name": "stdout",
     "output_type": "stream",
     "text": [
      "Epoch: 141\tLoss: 0.2432636320590973\n"
     ]
    },
    {
     "name": "stderr",
     "output_type": "stream",
     "text": [
      "100%|██████████| 192/192 [06:43<00:00,  2.10s/it]\n"
     ]
    },
    {
     "name": "stdout",
     "output_type": "stream",
     "text": [
      "Epoch: 142\tLoss: 0.5444148778915405\n"
     ]
    },
    {
     "name": "stderr",
     "output_type": "stream",
     "text": [
      "100%|██████████| 192/192 [06:52<00:00,  2.15s/it]\n"
     ]
    },
    {
     "name": "stdout",
     "output_type": "stream",
     "text": [
      "Epoch: 143\tLoss: 0.3142277002334595\n"
     ]
    },
    {
     "name": "stderr",
     "output_type": "stream",
     "text": [
      "100%|██████████| 192/192 [06:41<00:00,  2.09s/it]\n"
     ]
    },
    {
     "name": "stdout",
     "output_type": "stream",
     "text": [
      "Epoch: 144\tLoss: 0.29236719012260437\n"
     ]
    },
    {
     "name": "stderr",
     "output_type": "stream",
     "text": [
      "100%|██████████| 192/192 [06:42<00:00,  2.09s/it]\n"
     ]
    },
    {
     "name": "stdout",
     "output_type": "stream",
     "text": [
      "Epoch: 145\tLoss: 0.1549953818321228\n"
     ]
    },
    {
     "name": "stderr",
     "output_type": "stream",
     "text": [
      "100%|██████████| 192/192 [06:41<00:00,  2.09s/it]\n"
     ]
    },
    {
     "name": "stdout",
     "output_type": "stream",
     "text": [
      "Epoch: 146\tLoss: 1.0272748470306396\n"
     ]
    },
    {
     "name": "stderr",
     "output_type": "stream",
     "text": [
      "100%|██████████| 192/192 [06:46<00:00,  2.12s/it]\n"
     ]
    },
    {
     "name": "stdout",
     "output_type": "stream",
     "text": [
      "Epoch: 147\tLoss: 0.9591196775436401\n"
     ]
    },
    {
     "name": "stderr",
     "output_type": "stream",
     "text": [
      "100%|██████████| 192/192 [06:58<00:00,  2.18s/it]\n"
     ]
    },
    {
     "name": "stdout",
     "output_type": "stream",
     "text": [
      "Epoch: 148\tLoss: 0.44842880964279175\n"
     ]
    },
    {
     "name": "stderr",
     "output_type": "stream",
     "text": [
      "100%|██████████| 192/192 [06:41<00:00,  2.09s/it]\n"
     ]
    },
    {
     "name": "stdout",
     "output_type": "stream",
     "text": [
      "Epoch: 149\tLoss: 0.2753964066505432\n"
     ]
    },
    {
     "name": "stderr",
     "output_type": "stream",
     "text": [
      "100%|██████████| 192/192 [06:41<00:00,  2.09s/it]\n"
     ]
    },
    {
     "name": "stdout",
     "output_type": "stream",
     "text": [
      "Epoch: 150\tLoss: 0.6304421424865723\n"
     ]
    },
    {
     "name": "stderr",
     "output_type": "stream",
     "text": [
      "100%|██████████| 192/192 [06:42<00:00,  2.10s/it]\n"
     ]
    },
    {
     "name": "stdout",
     "output_type": "stream",
     "text": [
      "Epoch: 151\tLoss: 0.5514675378799438\n"
     ]
    },
    {
     "name": "stderr",
     "output_type": "stream",
     "text": [
      "100%|██████████| 192/192 [06:40<00:00,  2.08s/it]\n"
     ]
    },
    {
     "name": "stdout",
     "output_type": "stream",
     "text": [
      "Epoch: 152\tLoss: 1.6879370212554932\n"
     ]
    },
    {
     "name": "stderr",
     "output_type": "stream",
     "text": [
      "100%|██████████| 192/192 [07:03<00:00,  2.21s/it]\n"
     ]
    },
    {
     "name": "stdout",
     "output_type": "stream",
     "text": [
      "Epoch: 153\tLoss: 0.3659796118736267\n"
     ]
    },
    {
     "name": "stderr",
     "output_type": "stream",
     "text": [
      "100%|██████████| 192/192 [07:00<00:00,  2.19s/it]\n"
     ]
    },
    {
     "name": "stdout",
     "output_type": "stream",
     "text": [
      "Epoch: 154\tLoss: 0.44822394847869873\n"
     ]
    },
    {
     "name": "stderr",
     "output_type": "stream",
     "text": [
      "100%|██████████| 192/192 [06:58<00:00,  2.18s/it]\n"
     ]
    },
    {
     "name": "stdout",
     "output_type": "stream",
     "text": [
      "Epoch: 155\tLoss: 0.36173015832901\n"
     ]
    },
    {
     "name": "stderr",
     "output_type": "stream",
     "text": [
      "100%|██████████| 192/192 [06:47<00:00,  2.12s/it]\n"
     ]
    },
    {
     "name": "stdout",
     "output_type": "stream",
     "text": [
      "Epoch: 156\tLoss: 0.29125046730041504\n"
     ]
    },
    {
     "name": "stderr",
     "output_type": "stream",
     "text": [
      "100%|██████████| 192/192 [06:45<00:00,  2.11s/it]\n"
     ]
    },
    {
     "name": "stdout",
     "output_type": "stream",
     "text": [
      "Epoch: 157\tLoss: 0.16686101257801056\n"
     ]
    },
    {
     "name": "stderr",
     "output_type": "stream",
     "text": [
      "100%|██████████| 192/192 [06:50<00:00,  2.14s/it]\n"
     ]
    },
    {
     "name": "stdout",
     "output_type": "stream",
     "text": [
      "Epoch: 158\tLoss: 0.23924186825752258\n"
     ]
    },
    {
     "name": "stderr",
     "output_type": "stream",
     "text": [
      "100%|██████████| 192/192 [06:59<00:00,  2.18s/it]\n"
     ]
    },
    {
     "name": "stdout",
     "output_type": "stream",
     "text": [
      "Epoch: 159\tLoss: 0.15904201567173004\n"
     ]
    },
    {
     "name": "stderr",
     "output_type": "stream",
     "text": [
      "100%|██████████| 192/192 [06:50<00:00,  2.14s/it]\n"
     ]
    },
    {
     "name": "stdout",
     "output_type": "stream",
     "text": [
      "Epoch: 160\tLoss: 0.12698431313037872\n"
     ]
    },
    {
     "name": "stderr",
     "output_type": "stream",
     "text": [
      "100%|██████████| 192/192 [06:41<00:00,  2.09s/it]\n"
     ]
    },
    {
     "name": "stdout",
     "output_type": "stream",
     "text": [
      "Epoch: 161\tLoss: 0.9029024839401245\n"
     ]
    },
    {
     "name": "stderr",
     "output_type": "stream",
     "text": [
      "100%|██████████| 192/192 [06:45<00:00,  2.11s/it]\n"
     ]
    },
    {
     "name": "stdout",
     "output_type": "stream",
     "text": [
      "Epoch: 162\tLoss: 1.0250048637390137\n"
     ]
    },
    {
     "name": "stderr",
     "output_type": "stream",
     "text": [
      "100%|██████████| 192/192 [07:03<00:00,  2.21s/it]\n"
     ]
    },
    {
     "name": "stdout",
     "output_type": "stream",
     "text": [
      "Epoch: 163\tLoss: 0.9215497374534607\n"
     ]
    },
    {
     "name": "stderr",
     "output_type": "stream",
     "text": [
      "100%|██████████| 192/192 [07:32<00:00,  2.36s/it]\n"
     ]
    },
    {
     "name": "stdout",
     "output_type": "stream",
     "text": [
      "Epoch: 164\tLoss: 0.25962549448013306\n"
     ]
    },
    {
     "name": "stderr",
     "output_type": "stream",
     "text": [
      "100%|██████████| 192/192 [07:09<00:00,  2.23s/it]\n"
     ]
    },
    {
     "name": "stdout",
     "output_type": "stream",
     "text": [
      "Epoch: 165\tLoss: 0.38533496856689453\n"
     ]
    },
    {
     "name": "stderr",
     "output_type": "stream",
     "text": [
      "100%|██████████| 192/192 [07:01<00:00,  2.19s/it]\n"
     ]
    },
    {
     "name": "stdout",
     "output_type": "stream",
     "text": [
      "Epoch: 166\tLoss: 0.9928542375564575\n"
     ]
    },
    {
     "name": "stderr",
     "output_type": "stream",
     "text": [
      "100%|██████████| 192/192 [07:18<00:00,  2.28s/it]\n"
     ]
    },
    {
     "name": "stdout",
     "output_type": "stream",
     "text": [
      "Epoch: 167\tLoss: 0.4902390241622925\n"
     ]
    },
    {
     "name": "stderr",
     "output_type": "stream",
     "text": [
      "100%|██████████| 192/192 [07:13<00:00,  2.26s/it]\n"
     ]
    },
    {
     "name": "stdout",
     "output_type": "stream",
     "text": [
      "Epoch: 168\tLoss: 0.5440274477005005\n"
     ]
    },
    {
     "name": "stderr",
     "output_type": "stream",
     "text": [
      "100%|██████████| 192/192 [07:44<00:00,  2.42s/it]\n"
     ]
    },
    {
     "name": "stdout",
     "output_type": "stream",
     "text": [
      "Epoch: 169\tLoss: 0.19910025596618652\n"
     ]
    },
    {
     "name": "stderr",
     "output_type": "stream",
     "text": [
      "100%|██████████| 192/192 [07:41<00:00,  2.40s/it]\n"
     ]
    },
    {
     "name": "stdout",
     "output_type": "stream",
     "text": [
      "Epoch: 170\tLoss: 1.0421059131622314\n"
     ]
    },
    {
     "name": "stderr",
     "output_type": "stream",
     "text": [
      "100%|██████████| 192/192 [07:20<00:00,  2.29s/it]\n"
     ]
    },
    {
     "name": "stdout",
     "output_type": "stream",
     "text": [
      "Epoch: 171\tLoss: 3.136303424835205\n"
     ]
    },
    {
     "name": "stderr",
     "output_type": "stream",
     "text": [
      "100%|██████████| 192/192 [07:17<00:00,  2.28s/it]\n"
     ]
    },
    {
     "name": "stdout",
     "output_type": "stream",
     "text": [
      "Epoch: 172\tLoss: 2.54754638671875\n"
     ]
    },
    {
     "name": "stderr",
     "output_type": "stream",
     "text": [
      "100%|██████████| 192/192 [07:33<00:00,  2.36s/it]\n"
     ]
    },
    {
     "name": "stdout",
     "output_type": "stream",
     "text": [
      "Epoch: 173\tLoss: 0.22153633832931519\n"
     ]
    },
    {
     "name": "stderr",
     "output_type": "stream",
     "text": [
      "100%|██████████| 192/192 [07:08<00:00,  2.23s/it]\n"
     ]
    },
    {
     "name": "stdout",
     "output_type": "stream",
     "text": [
      "Epoch: 174\tLoss: 0.4861600399017334\n"
     ]
    },
    {
     "name": "stderr",
     "output_type": "stream",
     "text": [
      "100%|██████████| 192/192 [07:25<00:00,  2.32s/it]\n"
     ]
    },
    {
     "name": "stdout",
     "output_type": "stream",
     "text": [
      "Epoch: 175\tLoss: 0.13101354241371155\n"
     ]
    },
    {
     "name": "stderr",
     "output_type": "stream",
     "text": [
      "100%|██████████| 192/192 [07:22<00:00,  2.31s/it]\n"
     ]
    },
    {
     "name": "stdout",
     "output_type": "stream",
     "text": [
      "Epoch: 176\tLoss: 1.67152738571167\n"
     ]
    },
    {
     "name": "stderr",
     "output_type": "stream",
     "text": [
      "100%|██████████| 192/192 [07:13<00:00,  2.26s/it]\n"
     ]
    },
    {
     "name": "stdout",
     "output_type": "stream",
     "text": [
      "Epoch: 177\tLoss: 0.5731610059738159\n"
     ]
    },
    {
     "name": "stderr",
     "output_type": "stream",
     "text": [
      "100%|██████████| 192/192 [07:07<00:00,  2.22s/it]\n"
     ]
    },
    {
     "name": "stdout",
     "output_type": "stream",
     "text": [
      "Epoch: 178\tLoss: 0.5454331040382385\n"
     ]
    },
    {
     "name": "stderr",
     "output_type": "stream",
     "text": [
      "100%|██████████| 192/192 [07:05<00:00,  2.22s/it]\n"
     ]
    },
    {
     "name": "stdout",
     "output_type": "stream",
     "text": [
      "Epoch: 179\tLoss: 0.1548595279455185\n"
     ]
    },
    {
     "name": "stderr",
     "output_type": "stream",
     "text": [
      "100%|██████████| 192/192 [07:13<00:00,  2.26s/it]\n"
     ]
    },
    {
     "name": "stdout",
     "output_type": "stream",
     "text": [
      "Epoch: 180\tLoss: 0.5858038663864136\n"
     ]
    },
    {
     "name": "stderr",
     "output_type": "stream",
     "text": [
      "100%|██████████| 192/192 [07:19<00:00,  2.29s/it]\n"
     ]
    },
    {
     "name": "stdout",
     "output_type": "stream",
     "text": [
      "Epoch: 181\tLoss: 0.3487468659877777\n"
     ]
    },
    {
     "name": "stderr",
     "output_type": "stream",
     "text": [
      "100%|██████████| 192/192 [07:16<00:00,  2.28s/it]\n"
     ]
    },
    {
     "name": "stdout",
     "output_type": "stream",
     "text": [
      "Epoch: 182\tLoss: 0.47178342938423157\n"
     ]
    },
    {
     "name": "stderr",
     "output_type": "stream",
     "text": [
      "100%|██████████| 192/192 [06:56<00:00,  2.17s/it]\n"
     ]
    },
    {
     "name": "stdout",
     "output_type": "stream",
     "text": [
      "Epoch: 183\tLoss: 0.5465964078903198\n"
     ]
    },
    {
     "name": "stderr",
     "output_type": "stream",
     "text": [
      "100%|██████████| 192/192 [07:03<00:00,  2.20s/it]\n"
     ]
    },
    {
     "name": "stdout",
     "output_type": "stream",
     "text": [
      "Epoch: 184\tLoss: 0.12119133770465851\n"
     ]
    },
    {
     "name": "stderr",
     "output_type": "stream",
     "text": [
      "100%|██████████| 192/192 [06:58<00:00,  2.18s/it]\n"
     ]
    },
    {
     "name": "stdout",
     "output_type": "stream",
     "text": [
      "Epoch: 185\tLoss: 0.15868666768074036\n"
     ]
    },
    {
     "name": "stderr",
     "output_type": "stream",
     "text": [
      "100%|██████████| 192/192 [07:00<00:00,  2.19s/it]\n"
     ]
    },
    {
     "name": "stdout",
     "output_type": "stream",
     "text": [
      "Epoch: 186\tLoss: 0.5785863399505615\n"
     ]
    },
    {
     "name": "stderr",
     "output_type": "stream",
     "text": [
      "100%|██████████| 192/192 [06:59<00:00,  2.19s/it]\n"
     ]
    },
    {
     "name": "stdout",
     "output_type": "stream",
     "text": [
      "Epoch: 187\tLoss: 0.22854235768318176\n"
     ]
    },
    {
     "name": "stderr",
     "output_type": "stream",
     "text": [
      "100%|██████████| 192/192 [07:00<00:00,  2.19s/it]\n"
     ]
    },
    {
     "name": "stdout",
     "output_type": "stream",
     "text": [
      "Epoch: 188\tLoss: 0.18879181146621704\n"
     ]
    },
    {
     "name": "stderr",
     "output_type": "stream",
     "text": [
      "100%|██████████| 192/192 [07:00<00:00,  2.19s/it]\n"
     ]
    },
    {
     "name": "stdout",
     "output_type": "stream",
     "text": [
      "Epoch: 189\tLoss: 0.22569970786571503\n"
     ]
    },
    {
     "name": "stderr",
     "output_type": "stream",
     "text": [
      "100%|██████████| 192/192 [06:57<00:00,  2.17s/it]\n"
     ]
    },
    {
     "name": "stdout",
     "output_type": "stream",
     "text": [
      "Epoch: 190\tLoss: 0.5195077657699585\n"
     ]
    },
    {
     "name": "stderr",
     "output_type": "stream",
     "text": [
      "100%|██████████| 192/192 [07:02<00:00,  2.20s/it]\n"
     ]
    },
    {
     "name": "stdout",
     "output_type": "stream",
     "text": [
      "Epoch: 191\tLoss: 0.24797110259532928\n"
     ]
    },
    {
     "name": "stderr",
     "output_type": "stream",
     "text": [
      "100%|██████████| 192/192 [07:04<00:00,  2.21s/it]\n"
     ]
    },
    {
     "name": "stdout",
     "output_type": "stream",
     "text": [
      "Epoch: 192\tLoss: 0.3544115126132965\n"
     ]
    },
    {
     "name": "stderr",
     "output_type": "stream",
     "text": [
      "100%|██████████| 192/192 [06:58<00:00,  2.18s/it]\n"
     ]
    },
    {
     "name": "stdout",
     "output_type": "stream",
     "text": [
      "Epoch: 193\tLoss: 0.3259449899196625\n"
     ]
    },
    {
     "name": "stderr",
     "output_type": "stream",
     "text": [
      "100%|██████████| 192/192 [06:59<00:00,  2.19s/it]\n"
     ]
    },
    {
     "name": "stdout",
     "output_type": "stream",
     "text": [
      "Epoch: 194\tLoss: 0.19518086314201355\n"
     ]
    },
    {
     "name": "stderr",
     "output_type": "stream",
     "text": [
      "100%|██████████| 192/192 [06:59<00:00,  2.18s/it]\n"
     ]
    },
    {
     "name": "stdout",
     "output_type": "stream",
     "text": [
      "Epoch: 195\tLoss: 1.6723631620407104\n"
     ]
    },
    {
     "name": "stderr",
     "output_type": "stream",
     "text": [
      "100%|██████████| 192/192 [06:59<00:00,  2.18s/it]\n"
     ]
    },
    {
     "name": "stdout",
     "output_type": "stream",
     "text": [
      "Epoch: 196\tLoss: 1.686869502067566\n"
     ]
    },
    {
     "name": "stderr",
     "output_type": "stream",
     "text": [
      "100%|██████████| 192/192 [07:00<00:00,  2.19s/it]\n"
     ]
    },
    {
     "name": "stdout",
     "output_type": "stream",
     "text": [
      "Epoch: 197\tLoss: 0.20794028043746948\n"
     ]
    },
    {
     "name": "stderr",
     "output_type": "stream",
     "text": [
      "100%|██████████| 192/192 [06:56<00:00,  2.17s/it]\n"
     ]
    },
    {
     "name": "stdout",
     "output_type": "stream",
     "text": [
      "Epoch: 198\tLoss: 0.527816116809845\n"
     ]
    },
    {
     "name": "stderr",
     "output_type": "stream",
     "text": [
      "100%|██████████| 192/192 [06:56<00:00,  2.17s/it]\n"
     ]
    },
    {
     "name": "stdout",
     "output_type": "stream",
     "text": [
      "Epoch: 199\tLoss: 0.3368372619152069\n"
     ]
    }
   ],
   "source": [
    "model = ResNetSimCLR(base_model=\"resnet18\", out_dim=128)\n",
    "\n",
    "optimizer = torch.optim.AdamW(model.parameters(), lr=3e-4)\n",
    "\n",
    "scheduler = torch.optim.lr_scheduler.CosineAnnealingLR(optimizer, T_max=len(train_loader), eta_min=0,\n",
    "                                                        last_epoch=-1)\n",
    "\n",
    "args = {\n",
    "    \"device\" : torch.device(\"cuda\"),\n",
    "    \"batch_size\" : 64,\n",
    "    \"n_views\" : 2,\n",
    "    \"temperature\" : 0.07,\n",
    "    \"fp16_precision\" : True,\n",
    "    \"epochs\" : 200,\n",
    "    \"log_every_n_steps\" : 100,\n",
    "    \"arch\" : \"resnet18\",\n",
    "    \"save_every_n_epochs\" : 5\n",
    "}\n",
    "\n",
    "#  It’s a no-op if the 'gpu_index' argument is a negative integer or None.\n",
    "with torch.cuda.device(0):\n",
    "    torch.cuda.empty_cache()\n",
    "    gc.collect()\n",
    "    simclr = SimCLR(model=model, optimizer=optimizer, scheduler=scheduler, args=args)\n",
    "    simclr.train(train_loader)"
   ]
  },
  {
   "cell_type": "markdown",
   "metadata": {},
   "source": [
    "# Finetuning pretrained model"
   ]
  },
  {
   "cell_type": "code",
   "execution_count": 4,
   "metadata": {},
   "outputs": [],
   "source": [
    "from model import ResNetSimCLR\n",
    "\n",
    "dataset_len = 39201\n",
    "train_loader = get_dataloader(csv_path=train_path, \n",
    "                              dataset_path=dataset_path, \n",
    "                              batch_size=128, \n",
    "                              use_preloaded=True, \n",
    "                              start_idx=0, \n",
    "                              end_idx=dataset_len-1, \n",
    "                              shuffle=True, \n",
    "                              transforms=None, \n",
    "                              drop_data_till_balanced=True, \n",
    "                              simclr=False)\n",
    "\n",
    "val_loader = get_dataloader(csv_path=val_path, dataset_path=dataset_path, batch_size=128, shuffle=True, use_preloaded=True, start_idx=0, end_idx=8047, simclr=False)"
   ]
  },
  {
   "cell_type": "code",
   "execution_count": 18,
   "metadata": {},
   "outputs": [],
   "source": [
    "chkpoint = torch.load(os.path.join(r\"runs\\Jan25_03-08-13_DESKTOP-K6APQCL\", \"checkpoint_0200.pt\"))\n",
    "\n",
    "model = ResNetSimCLR(base_model=\"resnet18\", out_dim=128)\n",
    "model.load_state_dict(chkpoint[\"state_dict\"])\n",
    "\n",
    "for param in model.parameters(): # Freeze all parameters\n",
    "    param.requires_grad = False\n",
    "\n",
    "model.backbone.fc = nn.Linear(512, 2) # Replace fc layer from SimCLR with a new one\n",
    "model = model.to(device)\n",
    "\n",
    "optimizer = torch.optim.AdamW(model.parameters(), lr=3e-4)\n",
    "\n",
    "scaler = torch.cuda.amp.GradScaler()\n",
    "criterion = nn.CrossEntropyLoss(weight=torch.tensor([1, 9]).to(device))\n",
    "\n",
    "model_name = \"ResNet_SimCLR\""
   ]
  },
  {
   "cell_type": "code",
   "execution_count": null,
   "metadata": {},
   "outputs": [],
   "source": [
    "chkpoint = torch.load(os.path.join(\"saved_models\", \"%s.pt\"%model_name))\n",
    "model.load_state_dict(chkpoint[\"model_state_dict\"])\n",
    "optimizer.load_state_dict(chkpoint[\"optimizer\"])\n",
    "scaler.load_state_dict(chkpoint[\"scaler\"])"
   ]
  },
  {
   "cell_type": "code",
   "execution_count": 19,
   "metadata": {},
   "outputs": [
    {
     "name": "stdout",
     "output_type": "stream",
     "text": [
      "Training :\n",
      "Epoch : 1, Loss : 1.821, Accuracy : 0.500, Precision : 0.500, Recall : 1.000\n",
      "Validating :\n",
      "Epoch : 1, Loss : 1.863, Accuracy : 0.004, Precision : 0.004, Recall : 1.000\n",
      "Model is stored at folder:saved_models/ResNet_SimCLR.pt\n",
      "Training :\n",
      "Epoch : 2, Loss : 1.570, Accuracy : 0.500, Precision : 0.500, Recall : 1.000\n",
      "Validating :\n",
      "Epoch : 2, Loss : 1.933, Accuracy : 0.004, Precision : 0.004, Recall : 1.000\n",
      "Model is stored at folder:saved_models/ResNet_SimCLR.pt\n",
      "Training :\n",
      "Epoch : 3, Loss : 1.194, Accuracy : 0.502, Precision : 0.501, Recall : 1.000\n",
      "Validating :\n",
      "Epoch : 3, Loss : 1.612, Accuracy : 0.009, Precision : 0.004, Recall : 1.000\n",
      "Model is stored at folder:saved_models/ResNet_SimCLR.pt\n",
      "Training :\n",
      "Epoch : 4, Loss : 0.965, Accuracy : 0.535, Precision : 0.518, Recall : 1.000\n",
      "Validating :\n",
      "Epoch : 4, Loss : 1.056, Accuracy : 0.205, Precision : 0.005, Recall : 1.000\n",
      "Model is stored at folder:saved_models/ResNet_SimCLR.pt\n",
      "Training :\n",
      "Epoch : 5, Loss : 0.849, Accuracy : 0.685, Precision : 0.614, Recall : 1.000\n",
      "Validating :\n",
      "Epoch : 5, Loss : 0.818, Accuracy : 0.473, Precision : 0.008, Recall : 1.000\n",
      "Model is stored at folder:saved_models/ResNet_SimCLR.pt\n",
      "Training :\n",
      "Epoch : 6, Loss : 0.572, Accuracy : 0.823, Precision : 0.739, Recall : 1.000\n",
      "Validating :\n",
      "Epoch : 6, Loss : 0.686, Accuracy : 0.621, Precision : 0.011, Recall : 1.000\n",
      "Model is stored at folder:saved_models/ResNet_SimCLR.pt\n",
      "Training :\n",
      "Epoch : 7, Loss : 0.565, Accuracy : 0.870, Precision : 0.794, Recall : 1.000\n",
      "Validating :\n",
      "Epoch : 7, Loss : 0.645, Accuracy : 0.712, Precision : 0.014, Recall : 1.000\n",
      "Model is stored at folder:saved_models/ResNet_SimCLR.pt\n",
      "Training :\n",
      "Epoch : 8, Loss : 0.507, Accuracy : 0.908, Precision : 0.845, Recall : 1.000\n",
      "Validating :\n",
      "Epoch : 8, Loss : 0.626, Accuracy : 0.751, Precision : 0.016, Recall : 0.971\n",
      "Model is stored at folder:saved_models/ResNet_SimCLR.pt\n",
      "Training :\n",
      "Epoch : 9, Loss : 0.388, Accuracy : 0.925, Precision : 0.869, Recall : 1.000\n",
      "Validating :\n",
      "Epoch : 9, Loss : 0.507, Accuracy : 0.804, Precision : 0.020, Recall : 0.941\n",
      "Model is stored at folder:saved_models/ResNet_SimCLR.pt\n",
      "Training :\n",
      "Epoch : 10, Loss : 0.316, Accuracy : 0.939, Precision : 0.891, Recall : 1.000\n",
      "Validating :\n",
      "Epoch : 10, Loss : 0.339, Accuracy : 0.841, Precision : 0.022, Recall : 0.853\n",
      "Model is stored at folder:saved_models/ResNet_SimCLR.pt\n",
      "Training :\n",
      "Epoch : 11, Loss : 0.296, Accuracy : 0.955, Precision : 0.918, Recall : 1.000\n",
      "Validating :\n",
      "Epoch : 11, Loss : 0.498, Accuracy : 0.857, Precision : 0.023, Recall : 0.794\n",
      "Model is stored at folder:saved_models/ResNet_SimCLR.pt\n",
      "Training :\n",
      "Epoch : 12, Loss : 0.234, Accuracy : 0.958, Precision : 0.922, Recall : 1.000\n",
      "Validating :\n",
      "Epoch : 12, Loss : 0.307, Accuracy : 0.867, Precision : 0.021, Recall : 0.676\n",
      "Model is stored at folder:saved_models/ResNet_SimCLR.pt\n",
      "Training :\n",
      "Epoch : 13, Loss : 0.263, Accuracy : 0.969, Precision : 0.942, Recall : 1.000\n",
      "Validating :\n",
      "Epoch : 13, Loss : 0.305, Accuracy : 0.883, Precision : 0.023, Recall : 0.647\n",
      "Model is stored at folder:saved_models/ResNet_SimCLR.pt\n",
      "Training :\n",
      "Epoch : 14, Loss : 0.188, Accuracy : 0.971, Precision : 0.944, Recall : 1.000\n",
      "Validating :\n",
      "Epoch : 14, Loss : 0.341, Accuracy : 0.880, Precision : 0.022, Recall : 0.618\n",
      "Model is stored at folder:saved_models/ResNet_SimCLR.pt\n",
      "Training :\n",
      "Epoch : 15, Loss : 0.215, Accuracy : 0.969, Precision : 0.942, Recall : 1.000\n",
      "Validating :\n",
      "Epoch : 15, Loss : 0.290, Accuracy : 0.893, Precision : 0.023, Recall : 0.588\n",
      "Model is stored at folder:saved_models/ResNet_SimCLR.pt\n",
      "Training :\n",
      "Epoch : 16, Loss : 0.153, Accuracy : 0.976, Precision : 0.955, Recall : 1.000\n",
      "Validating :\n",
      "Epoch : 16, Loss : 0.283, Accuracy : 0.896, Precision : 0.024, Recall : 0.588\n",
      "Model is stored at folder:saved_models/ResNet_SimCLR.pt\n",
      "Training :\n",
      "Epoch : 17, Loss : 0.167, Accuracy : 0.979, Precision : 0.959, Recall : 1.000\n",
      "Validating :\n",
      "Epoch : 17, Loss : 0.500, Accuracy : 0.906, Precision : 0.023, Recall : 0.500\n",
      "Model is stored at folder:saved_models/ResNet_SimCLR.pt\n",
      "Training :\n",
      "Epoch : 18, Loss : 0.123, Accuracy : 0.982, Precision : 0.966, Recall : 1.000\n",
      "Validating :\n",
      "Epoch : 18, Loss : 0.230, Accuracy : 0.908, Precision : 0.023, Recall : 0.500\n",
      "Model is stored at folder:saved_models/ResNet_SimCLR.pt\n",
      "Training :\n",
      "Epoch : 19, Loss : 0.102, Accuracy : 0.978, Precision : 0.957, Recall : 1.000\n",
      "Validating :\n",
      "Epoch : 19, Loss : 0.353, Accuracy : 0.913, Precision : 0.024, Recall : 0.500\n",
      "Model is stored at folder:saved_models/ResNet_SimCLR.pt\n",
      "Training :\n",
      "Epoch : 20, Loss : 0.189, Accuracy : 0.978, Precision : 0.957, Recall : 1.000\n",
      "Validating :\n",
      "Epoch : 20, Loss : 0.253, Accuracy : 0.909, Precision : 0.023, Recall : 0.500\n",
      "Model is stored at folder:saved_models/ResNet_SimCLR.pt\n",
      "Training :\n",
      "Epoch : 21, Loss : 0.130, Accuracy : 0.983, Precision : 0.968, Recall : 1.000\n",
      "Validating :\n",
      "Epoch : 21, Loss : 0.210, Accuracy : 0.912, Precision : 0.024, Recall : 0.500\n",
      "Model is stored at folder:saved_models/ResNet_SimCLR.pt\n",
      "Training :\n",
      "Epoch : 22, Loss : 0.123, Accuracy : 0.983, Precision : 0.968, Recall : 1.000\n",
      "Validating :\n",
      "Epoch : 22, Loss : 0.266, Accuracy : 0.912, Precision : 0.024, Recall : 0.500\n",
      "Model is stored at folder:saved_models/ResNet_SimCLR.pt\n",
      "Training :\n",
      "Epoch : 23, Loss : 0.170, Accuracy : 0.980, Precision : 0.961, Recall : 1.000\n",
      "Validating :\n",
      "Epoch : 23, Loss : 0.317, Accuracy : 0.917, Precision : 0.023, Recall : 0.441\n",
      "Model is stored at folder:saved_models/ResNet_SimCLR.pt\n",
      "Training :\n",
      "Epoch : 24, Loss : 0.098, Accuracy : 0.982, Precision : 0.966, Recall : 1.000\n",
      "Validating :\n",
      "Epoch : 24, Loss : 0.225, Accuracy : 0.918, Precision : 0.017, Recall : 0.324\n",
      "Model is stored at folder:saved_models/ResNet_SimCLR.pt\n",
      "Training :\n",
      "Epoch : 25, Loss : 0.132, Accuracy : 0.986, Precision : 0.972, Recall : 1.000\n",
      "Validating :\n",
      "Epoch : 25, Loss : 0.376, Accuracy : 0.921, Precision : 0.016, Recall : 0.294\n",
      "Model is stored at folder:saved_models/ResNet_SimCLR.pt\n",
      "Training :\n",
      "Epoch : 26, Loss : 0.138, Accuracy : 0.985, Precision : 0.970, Recall : 1.000\n",
      "Validating :\n",
      "Epoch : 26, Loss : 0.320, Accuracy : 0.926, Precision : 0.015, Recall : 0.265\n",
      "Model is stored at folder:saved_models/ResNet_SimCLR.pt\n",
      "Training :\n",
      "Epoch : 27, Loss : 0.208, Accuracy : 0.987, Precision : 0.975, Recall : 1.000\n",
      "Validating :\n",
      "Epoch : 27, Loss : 0.276, Accuracy : 0.924, Precision : 0.015, Recall : 0.265\n",
      "Model is stored at folder:saved_models/ResNet_SimCLR.pt\n",
      "Training :\n",
      "Epoch : 28, Loss : 0.104, Accuracy : 0.983, Precision : 0.968, Recall : 1.000\n",
      "Validating :\n",
      "Epoch : 28, Loss : 0.193, Accuracy : 0.919, Precision : 0.017, Recall : 0.324\n",
      "Model is stored at folder:saved_models/ResNet_SimCLR.pt\n",
      "Training :\n",
      "Epoch : 29, Loss : 0.197, Accuracy : 0.986, Precision : 0.972, Recall : 1.000\n",
      "Validating :\n",
      "Epoch : 29, Loss : 0.326, Accuracy : 0.922, Precision : 0.015, Recall : 0.265\n",
      "Model is stored at folder:saved_models/ResNet_SimCLR.pt\n",
      "Training :\n",
      "Epoch : 30, Loss : 0.049, Accuracy : 0.988, Precision : 0.977, Recall : 1.000\n",
      "Validating :\n",
      "Epoch : 30, Loss : 0.265, Accuracy : 0.924, Precision : 0.015, Recall : 0.265\n",
      "Model is stored at folder:saved_models/ResNet_SimCLR.pt\n",
      "Training :\n",
      "Epoch : 31, Loss : 0.196, Accuracy : 0.989, Precision : 0.979, Recall : 1.000\n",
      "Validating :\n",
      "Epoch : 31, Loss : 0.272, Accuracy : 0.926, Precision : 0.016, Recall : 0.265\n",
      "Model is stored at folder:saved_models/ResNet_SimCLR.pt\n",
      "Training :\n",
      "Epoch : 32, Loss : 0.117, Accuracy : 0.992, Precision : 0.984, Recall : 1.000\n",
      "Validating :\n",
      "Epoch : 32, Loss : 0.283, Accuracy : 0.926, Precision : 0.014, Recall : 0.235\n",
      "Model is stored at folder:saved_models/ResNet_SimCLR.pt\n",
      "Training :\n",
      "Epoch : 33, Loss : 0.136, Accuracy : 0.988, Precision : 0.977, Recall : 1.000\n",
      "Validating :\n",
      "Epoch : 33, Loss : 0.131, Accuracy : 0.926, Precision : 0.012, Recall : 0.206\n",
      "Model is stored at folder:saved_models/ResNet_SimCLR.pt\n",
      "Training :\n",
      "Epoch : 34, Loss : 0.081, Accuracy : 0.988, Precision : 0.977, Recall : 1.000\n",
      "Validating :\n",
      "Epoch : 34, Loss : 0.185, Accuracy : 0.927, Precision : 0.012, Recall : 0.206\n",
      "Model is stored at folder:saved_models/ResNet_SimCLR.pt\n",
      "Training :\n",
      "Epoch : 35, Loss : 0.099, Accuracy : 0.991, Precision : 0.981, Recall : 1.000\n",
      "Validating :\n",
      "Epoch : 35, Loss : 0.160, Accuracy : 0.926, Precision : 0.012, Recall : 0.206\n",
      "Model is stored at folder:saved_models/ResNet_SimCLR.pt\n",
      "Training :\n",
      "Epoch : 36, Loss : 0.070, Accuracy : 0.993, Precision : 0.986, Recall : 1.000\n",
      "Validating :\n",
      "Epoch : 36, Loss : 0.185, Accuracy : 0.925, Precision : 0.014, Recall : 0.235\n",
      "Model is stored at folder:saved_models/ResNet_SimCLR.pt\n",
      "Training :\n",
      "Epoch : 37, Loss : 0.078, Accuracy : 0.989, Precision : 0.979, Recall : 1.000\n",
      "Validating :\n",
      "Epoch : 37, Loss : 0.243, Accuracy : 0.928, Precision : 0.012, Recall : 0.206\n",
      "Model is stored at folder:saved_models/ResNet_SimCLR.pt\n",
      "Training :\n",
      "Epoch : 38, Loss : 0.116, Accuracy : 0.992, Precision : 0.984, Recall : 1.000\n",
      "Validating :\n",
      "Epoch : 38, Loss : 0.144, Accuracy : 0.927, Precision : 0.012, Recall : 0.206\n",
      "Model is stored at folder:saved_models/ResNet_SimCLR.pt\n",
      "Training :\n",
      "Epoch : 39, Loss : 0.057, Accuracy : 0.991, Precision : 0.981, Recall : 1.000\n",
      "Validating :\n",
      "Epoch : 39, Loss : 0.124, Accuracy : 0.927, Precision : 0.012, Recall : 0.206\n",
      "Model is stored at folder:saved_models/ResNet_SimCLR.pt\n",
      "Training :\n",
      "Epoch : 40, Loss : 0.058, Accuracy : 0.989, Precision : 0.979, Recall : 1.000\n",
      "Validating :\n",
      "Epoch : 40, Loss : 0.177, Accuracy : 0.929, Precision : 0.013, Recall : 0.206\n",
      "Model is stored at folder:saved_models/ResNet_SimCLR.pt\n"
     ]
    }
   ],
   "source": [
    "torch.cuda.empty_cache()\n",
    "gc.collect()\n",
    "train_kc_model(model, optimizer, criterion, train_loader, val_loader, scaler, model_name=model_name, epochs=40, device=device)"
   ]
  },
  {
   "cell_type": "markdown",
   "metadata": {},
   "source": [
    "# Training with normal supervised Learning"
   ]
  },
  {
   "cell_type": "code",
   "execution_count": null,
   "metadata": {},
   "outputs": [],
   "source": [
    "transforms_list = [transforms.Compose([transforms.RandomResizedCrop(size=96),transforms.Resize(size=[336, 336])]),\n",
    "                   transforms.RandomRotation(degrees=360),\n",
    "                   GaussianBlur(kernel_size=3),\n",
    "                   transforms.ColorJitter(0.1, 0.1, 0.003, 0.003)]\n",
    "\n",
    "transform = RandomChoiceExtended(transforms_list, min_transforms=0, max_transforms=3)\n",
    "\n",
    "dataset_len = 39201\n",
    "\n",
    "train_loader = get_dataloader(csv_path=train_path, dataset_path=dataset_path, batch_size=128, use_preloaded=True, start_idx=4096, end_idx=int(2**13)+4096, shuffle=True, transforms=transform, drop_data_till_balanced=False, simclr=True)\n",
    "val_loader = get_dataloader(csv_path=val_path, dataset_path=dataset_path, batch_size=128, shuffle=True, use_preloaded=True, start_idx=0, end_idx=8047, simclr=False)"
   ]
  },
  {
   "cell_type": "code",
   "execution_count": null,
   "metadata": {},
   "outputs": [],
   "source": [
    "resnet = resnet18().to(device) # weights=ResNet18_Weights.IMAGENET1K_V1\n",
    "\n",
    "resnet.fc = nn.Linear(512, 2).to(device)\n",
    "\n",
    "optimizer = optim.AdamW(params=resnet.parameters(), lr=3e-4)\n",
    "scaler = torch.cuda.amp.GradScaler()\n",
    "\n",
    "criterion = nn.CrossEntropyLoss() # weight=torch.tensor([1, 20]).to(device)"
   ]
  },
  {
   "cell_type": "code",
   "execution_count": null,
   "metadata": {},
   "outputs": [
    {
     "name": "stderr",
     "output_type": "stream",
     "text": [
      "c:\\Users\\JadHa\\anaconda3\\envs\\pytorch\\Lib\\site-packages\\torchvision\\transforms\\functional.py:1603: UserWarning: The default value of the antialias parameter of all the resizing transforms (Resize(), RandomResizedCrop(), etc.) will change from None to True in v0.17, in order to be consistent across the PIL and Tensor backends. To suppress this warning, directly pass antialias=True (recommended, future default), antialias=None (current default, which means False for Tensors and True for PIL), or antialias=False (only works on Tensors - PIL will still use antialiasing). This also applies if you are using the inference transforms from the models weights: update the call to weights.transforms(antialias=True).\n",
      "  warnings.warn(\n"
     ]
    },
    {
     "name": "stdout",
     "output_type": "stream",
     "text": [
      "Training :\n",
      "Epoch : 1, Loss : 0.017, Accuracy : 0.968, Precision : 0.657, Recall : 0.804\n",
      "Validating :\n",
      "Epoch : 1, Loss : 0.065, Accuracy : 0.949, Precision : 0.008, Recall : 0.088\n",
      "Model is stored at folder:saved_models/Resnet_AMP.pt\n",
      "Training :\n",
      "Epoch : 2, Loss : 0.023, Accuracy : 0.989, Precision : 0.921, Recall : 0.851\n",
      "Validating :\n",
      "Epoch : 2, Loss : 0.215, Accuracy : 0.940, Precision : 0.007, Recall : 0.088\n",
      "Model is stored at folder:saved_models/Resnet_AMP.pt\n",
      "Training :\n",
      "Epoch : 3, Loss : 0.004, Accuracy : 0.991, Precision : 0.942, Recall : 0.884\n",
      "Validating :\n",
      "Epoch : 3, Loss : 0.372, Accuracy : 0.941, Precision : 0.007, Recall : 0.088\n",
      "Model is stored at folder:saved_models/Resnet_AMP.pt\n",
      "Training :\n",
      "Epoch : 4, Loss : 0.007, Accuracy : 0.993, Precision : 0.951, Recall : 0.917\n",
      "Validating :\n",
      "Epoch : 4, Loss : 0.794, Accuracy : 0.941, Precision : 0.007, Recall : 0.088\n",
      "Model is stored at folder:saved_models/Resnet_AMP.pt\n",
      "Training :\n",
      "Epoch : 5, Loss : 0.008, Accuracy : 0.994, Precision : 0.954, Recall : 0.922\n",
      "Validating :\n",
      "Epoch : 5, Loss : 0.164, Accuracy : 0.939, Precision : 0.000, Recall : 0.000\n",
      "Model is stored at folder:saved_models/Resnet_AMP.pt\n",
      "Training :\n",
      "Epoch : 6, Loss : 0.027, Accuracy : 0.994, Precision : 0.949, Recall : 0.927\n",
      "Validating :\n",
      "Epoch : 6, Loss : 0.503, Accuracy : 0.905, Precision : 0.003, Recall : 0.059\n",
      "Model is stored at folder:saved_models/Resnet_AMP.pt\n",
      "Training :\n",
      "Epoch : 7, Loss : 0.028, Accuracy : 0.995, Precision : 0.978, Recall : 0.932\n",
      "Validating :\n",
      "Epoch : 7, Loss : 0.532, Accuracy : 0.905, Precision : 0.004, Recall : 0.088\n",
      "Model is stored at folder:saved_models/Resnet_AMP.pt\n",
      "Training :\n",
      "Epoch : 8, Loss : 0.010, Accuracy : 0.996, Precision : 0.966, Recall : 0.948\n",
      "Validating :\n",
      "Epoch : 8, Loss : 0.663, Accuracy : 0.939, Precision : 0.000, Recall : 0.000\n",
      "Model is stored at folder:saved_models/Resnet_AMP.pt\n",
      "Training :\n",
      "Epoch : 9, Loss : 0.041, Accuracy : 0.997, Precision : 0.983, Recall : 0.955\n",
      "Validating :\n",
      "Epoch : 9, Loss : 0.242, Accuracy : 0.946, Precision : 0.000, Recall : 0.000\n",
      "Model is stored at folder:saved_models/Resnet_AMP.pt\n",
      "Training :\n",
      "Epoch : 10, Loss : 0.048, Accuracy : 0.997, Precision : 0.978, Recall : 0.962\n",
      "Validating :\n",
      "Epoch : 10, Loss : 0.288, Accuracy : 0.949, Precision : 0.008, Recall : 0.088\n",
      "Model is stored at folder:saved_models/Resnet_AMP.pt\n",
      "Training :\n",
      "Epoch : 11, Loss : 0.023, Accuracy : 0.995, Precision : 0.966, Recall : 0.929\n",
      "Validating :\n",
      "Epoch : 11, Loss : 0.163, Accuracy : 0.950, Precision : 0.003, Recall : 0.029\n",
      "Model is stored at folder:saved_models/Resnet_AMP.pt\n",
      "Training :\n",
      "Epoch : 12, Loss : 0.004, Accuracy : 0.996, Precision : 0.983, Recall : 0.948\n",
      "Validating :\n",
      "Epoch : 12, Loss : 0.348, Accuracy : 0.949, Precision : 0.000, Recall : 0.000\n",
      "Model is stored at folder:saved_models/Resnet_AMP.pt\n",
      "Training :\n",
      "Epoch : 13, Loss : 0.003, Accuracy : 0.997, Precision : 0.978, Recall : 0.960\n",
      "Validating :\n",
      "Epoch : 13, Loss : 0.509, Accuracy : 0.938, Precision : 0.000, Recall : 0.000\n",
      "Model is stored at folder:saved_models/Resnet_AMP.pt\n",
      "Training :\n",
      "Epoch : 14, Loss : 0.008, Accuracy : 0.998, Precision : 0.995, Recall : 0.974\n",
      "Validating :\n",
      "Epoch : 14, Loss : 0.054, Accuracy : 0.946, Precision : 0.000, Recall : 0.000\n",
      "Model is stored at folder:saved_models/Resnet_AMP.pt\n",
      "Training :\n",
      "Epoch : 15, Loss : 0.013, Accuracy : 0.998, Precision : 0.986, Recall : 0.967\n",
      "Validating :\n",
      "Epoch : 15, Loss : 0.363, Accuracy : 0.957, Precision : 0.000, Recall : 0.000\n",
      "Model is stored at folder:saved_models/Resnet_AMP.pt\n"
     ]
    },
    {
     "ename": "KeyboardInterrupt",
     "evalue": "",
     "output_type": "error",
     "traceback": [
      "\u001b[1;31m---------------------------------------------------------------------------\u001b[0m",
      "\u001b[1;31mKeyboardInterrupt\u001b[0m                         Traceback (most recent call last)",
      "Cell \u001b[1;32mIn[4], line 3\u001b[0m\n\u001b[0;32m      1\u001b[0m torch\u001b[38;5;241m.\u001b[39mcuda\u001b[38;5;241m.\u001b[39mempty_cache()\n\u001b[0;32m      2\u001b[0m gc\u001b[38;5;241m.\u001b[39mcollect()\n\u001b[1;32m----> 3\u001b[0m \u001b[43mtrain_kc_model\u001b[49m\u001b[43m(\u001b[49m\u001b[43mresnet\u001b[49m\u001b[43m,\u001b[49m\u001b[43m \u001b[49m\u001b[43moptimizer\u001b[49m\u001b[43m,\u001b[49m\u001b[43m \u001b[49m\u001b[43mcriterion\u001b[49m\u001b[43m,\u001b[49m\u001b[43m \u001b[49m\u001b[43mtrain_loader\u001b[49m\u001b[43m,\u001b[49m\u001b[43m \u001b[49m\u001b[43mval_loader\u001b[49m\u001b[43m,\u001b[49m\u001b[43m \u001b[49m\u001b[43mscaler\u001b[49m\u001b[43m,\u001b[49m\u001b[43m \u001b[49m\u001b[43mmodel_name\u001b[49m\u001b[38;5;241;43m=\u001b[39;49m\u001b[38;5;124;43m\"\u001b[39;49m\u001b[38;5;124;43mResnet_AMP\u001b[39;49m\u001b[38;5;124;43m\"\u001b[39;49m\u001b[43m,\u001b[49m\u001b[43m \u001b[49m\u001b[43mepochs\u001b[49m\u001b[38;5;241;43m=\u001b[39;49m\u001b[38;5;241;43m40\u001b[39;49m\u001b[43m,\u001b[49m\u001b[43m \u001b[49m\u001b[43mdevice\u001b[49m\u001b[38;5;241;43m=\u001b[39;49m\u001b[43mdevice\u001b[49m\u001b[43m)\u001b[49m\n",
      "File \u001b[1;32mc:\\Users\\JadHa\\Desktop\\Uni\\DLMB\\DLMI-Project\\trainer.py:27\u001b[0m, in \u001b[0;36mtrain_kc_model\u001b[1;34m(model, optimizer, criterion, train_loader, val_loader, scaler, model_name, epochs, device)\u001b[0m\n\u001b[0;32m     24\u001b[0m     output \u001b[38;5;241m=\u001b[39m model(images)\n\u001b[0;32m     25\u001b[0m     loss \u001b[38;5;241m=\u001b[39m criterion(output, labels)\n\u001b[1;32m---> 27\u001b[0m TP \u001b[38;5;241m+\u001b[39m\u001b[38;5;241m=\u001b[39m torch\u001b[38;5;241m.\u001b[39mlogical_and(\u001b[43moutput\u001b[49m\u001b[38;5;241;43m.\u001b[39;49m\u001b[43margmax\u001b[49m\u001b[43m(\u001b[49m\u001b[43mdim\u001b[49m\u001b[38;5;241;43m=\u001b[39;49m\u001b[38;5;241;43m1\u001b[39;49m\u001b[43m)\u001b[49m\u001b[38;5;241;43m.\u001b[39;49m\u001b[43meq\u001b[49m\u001b[43m(\u001b[49m\u001b[38;5;241;43m1\u001b[39;49m\u001b[43m)\u001b[49m, labels\u001b[38;5;241m.\u001b[39margmax(dim\u001b[38;5;241m=\u001b[39m\u001b[38;5;241m1\u001b[39m)\u001b[38;5;241m.\u001b[39meq(\u001b[38;5;241m1\u001b[39m))\u001b[38;5;241m.\u001b[39msum()\n\u001b[0;32m     28\u001b[0m PP \u001b[38;5;241m+\u001b[39m\u001b[38;5;241m=\u001b[39m output\u001b[38;5;241m.\u001b[39margmax(dim\u001b[38;5;241m=\u001b[39m\u001b[38;5;241m1\u001b[39m)\u001b[38;5;241m.\u001b[39meq(\u001b[38;5;241m1\u001b[39m)\u001b[38;5;241m.\u001b[39msum()\n\u001b[0;32m     29\u001b[0m P \u001b[38;5;241m+\u001b[39m\u001b[38;5;241m=\u001b[39m labels\u001b[38;5;241m.\u001b[39margmax(dim\u001b[38;5;241m=\u001b[39m\u001b[38;5;241m1\u001b[39m)\u001b[38;5;241m.\u001b[39meq(\u001b[38;5;241m1\u001b[39m)\u001b[38;5;241m.\u001b[39msum()\n",
      "\u001b[1;31mKeyboardInterrupt\u001b[0m: "
     ]
    }
   ],
   "source": [
    "torch.cuda.empty_cache()\n",
    "gc.collect()\n",
    "train_kc_model(resnet, optimizer, criterion, train_loader, val_loader, scaler, model_name=\"Resnet_AMP\", epochs=40, device=device)"
   ]
  },
  {
   "cell_type": "markdown",
   "metadata": {},
   "source": [
    "# Training an XGBoost Classifier"
   ]
  },
  {
   "cell_type": "code",
   "execution_count": 13,
   "metadata": {},
   "outputs": [
    {
     "name": "stderr",
     "output_type": "stream",
     "text": [
      "100%|██████████| 39201/39201 [2:01:32<00:00,  5.38it/s]  \n",
      "100%|██████████| 8047/8047 [23:54<00:00,  5.61it/s]\n"
     ]
    }
   ],
   "source": [
    "from kvasir_capsule_dataset import KC_Dataset_Features\n",
    "dataset_len = 39201\n",
    "train_dataset = KC_Dataset_Features(start_idx=0, end_idx=dataset_len, csv_path=train_path, dataset_path=dataset_path)\n",
    "val_dataset = KC_Dataset_Features(start_idx=0, end_idx=8047, csv_path=val_path, dataset_path=dataset_path)"
   ]
  },
  {
   "cell_type": "code",
   "execution_count": 22,
   "metadata": {},
   "outputs": [
    {
     "name": "stdout",
     "output_type": "stream",
     "text": [
      "[0]\tvalidation_0-logloss:0.58344\n",
      "[1]\tvalidation_0-logloss:0.40206\n",
      "[2]\tvalidation_0-logloss:0.29162\n",
      "[3]\tvalidation_0-logloss:0.25121\n",
      "[4]\tvalidation_0-logloss:0.22556\n",
      "[5]\tvalidation_0-logloss:0.20624\n",
      "[6]\tvalidation_0-logloss:0.19864\n",
      "[7]\tvalidation_0-logloss:0.19456\n",
      "[8]\tvalidation_0-logloss:0.19351\n",
      "[9]\tvalidation_0-logloss:0.19281\n",
      "[10]\tvalidation_0-logloss:0.19485\n",
      "[11]\tvalidation_0-logloss:0.19263\n",
      "[12]\tvalidation_0-logloss:0.18566\n",
      "[13]\tvalidation_0-logloss:0.18701\n",
      "[14]\tvalidation_0-logloss:0.18977\n"
     ]
    }
   ],
   "source": [
    "import xgboost as xgb\n",
    "\n",
    "X_train, y_train = (train_dataset.x, train_dataset.y)\n",
    "X_test, y_test = (val_dataset.x, val_dataset.y)\n",
    "\n",
    "# Use \"hist\" for constructing the trees, with early stopping enabled.\n",
    "clf = xgb.XGBClassifier(tree_method=\"hist\", early_stopping_rounds=2, scale_pos_weight=1/100)\n",
    "# Fit the model, test sets are used for early stopping.\n",
    "clf.fit(X_train, y_train, eval_set=[(X_test, y_test)])\n",
    "# Save model into JSON format.\n",
    "clf.save_model(\"xgboost_3.json\")\n",
    "\n",
    "preds = clf.predict(X_test)"
   ]
  },
  {
   "cell_type": "code",
   "execution_count": 18,
   "metadata": {},
   "outputs": [],
   "source": [
    "clf = xgb.XGBClassifier(tree_method=\"hist\", early_stopping_rounds=2)\n",
    "clf.load_model(\"clf.json\")\n",
    "preds = clf.predict(X_test)"
   ]
  },
  {
   "cell_type": "code",
   "execution_count": 23,
   "metadata": {},
   "outputs": [
    {
     "name": "stdout",
     "output_type": "stream",
     "text": [
      "              precision    recall  f1-score   support\n",
      "\n",
      "      normal       1.00      0.97      0.98      8013\n",
      "       blood       0.00      0.00      0.00        34\n",
      "\n",
      "    accuracy                           0.97      8047\n",
      "   macro avg       0.50      0.49      0.49      8047\n",
      "weighted avg       0.99      0.97      0.98      8047\n",
      "\n",
      "0.0\n",
      "0.0\n"
     ]
    }
   ],
   "source": [
    "from sklearn.metrics import classification_report\n",
    "import numpy as np\n",
    "print(classification_report(np.argmax(y_test, axis=1), np.argmax(preds, axis=1), target_names=[\"normal\", \"blood\"]))\n",
    "print(np.sum(np.logical_and(np.argmax(y_test, axis=1) == 1, np.argmax(preds, axis=1) == 1)) / np.sum(np.argmax(y_test, axis=1)))\n",
    "print(np.sum(np.logical_and(np.argmax(y_test, axis=1) == 1, np.argmax(preds, axis=1) == 1)) / np.sum(np.argmax(preds, axis=1)))"
   ]
  }
 ],
 "metadata": {
  "kernelspec": {
   "display_name": "eeg_gnn",
   "language": "python",
   "name": "python3"
  },
  "language_info": {
   "codemirror_mode": {
    "name": "ipython",
    "version": 3
   },
   "file_extension": ".py",
   "mimetype": "text/x-python",
   "name": "python",
   "nbconvert_exporter": "python",
   "pygments_lexer": "ipython3",
   "version": "3.11.5"
  }
 },
 "nbformat": 4,
 "nbformat_minor": 2
}
